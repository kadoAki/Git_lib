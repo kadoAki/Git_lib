{
 "cells": [
  {
   "cell_type": "markdown",
   "metadata": {},
   "source": [
    "# Python使い方メモ"
   ]
  },
  {
   "cell_type": "markdown",
   "metadata": {},
   "source": [
    "## 0_PowerShellからPythonを使う\n",
    "### 0-1_環境構築\n",
    "* powershellでpythonの仮想環境を構築する\n",
    "    ```powershell\n",
    "    # カレントディレクトリにディレクトリ名envで仮想環境構築\n",
    "    py -m venv env\n",
    "    # 仮想環境起動\n",
    "    ./env/Scripts/Activate.ps1\n",
    "    # 仮想環境停止\n",
    "    deactivate\n",
    "    # pipからライブラリインストール\n",
    "    pip install ライブラリ名 == バージョン\n",
    "    # インストールしたライブラリの一覧\n",
    "    pip list\n",
    "    # インストールしたライブラリの一覧をテキスト化\n",
    "    pip freeze > requirements.txt\n",
    "    # テキスト化したライブラリをまとめてインストール\n",
    "    pip install -r requirements.txt\n",
    "    ```"
   ]
  },
  {
   "cell_type": "markdown",
   "metadata": {},
   "source": [
    "\n",
    "### python.exeへのコマンドライン\n",
    "~./AppData/Local/Programs/Python/Python312/Doc/html/tutorial/interpreter.html\n",
    "* python\n",
    "  * -c　<コマンド> \n",
    "    * コマンドでコード実行\n",
    "  * -m  <モジュール>\n",
    "    * モジュール検索し、内容をモジュール\n",
    "  * -? or -h\n",
    "    * ヘルプ\n",
    "  * --help-env\n",
    "    * Python固有の環境変数の簡単な説明を出力し終了する\n",
    "  * --help-xオプション\n",
    "    * 実装固有のオプション説明を出力し終了する\n",
    "  * --help-all\n",
    "    * 完全な使用情報を出力し終了する\n",
    "  * -v\n",
    "    * バージョン表示"
   ]
  },
  {
   "cell_type": "markdown",
   "metadata": {},
   "source": [
    "## python\n",
    "### 文字列とバイト"
   ]
  },
  {
   "cell_type": "code",
   "execution_count": 1,
   "metadata": {},
   "outputs": [
    {
     "data": {
      "text/plain": [
       "b'foo'"
      ]
     },
     "execution_count": 1,
     "metadata": {},
     "output_type": "execute_result"
    }
   ],
   "source": [
    "# バイトから文字\n",
    "bytes([102, 111, 111])"
   ]
  },
  {
   "cell_type": "code",
   "execution_count": 2,
   "metadata": {},
   "outputs": [
    {
     "data": {
      "text/plain": [
       "[102, 111, 111, 32, 98, 97, 114]"
      ]
     },
     "execution_count": 2,
     "metadata": {},
     "output_type": "execute_result"
    }
   ],
   "source": [
    "# リスト形式で文字からバイト\n",
    "list(b'foo bar')"
   ]
  },
  {
   "cell_type": "code",
   "execution_count": 3,
   "metadata": {},
   "outputs": [
    {
     "data": {
      "text/plain": [
       "(102, 111, 111, 32, 98, 97, 114)"
      ]
     },
     "execution_count": 3,
     "metadata": {},
     "output_type": "execute_result"
    }
   ],
   "source": [
    "# タプル形式で文字からバイト\n",
    "tuple(b'foo bar')"
   ]
  },
  {
   "cell_type": "code",
   "execution_count": 4,
   "metadata": {},
   "outputs": [
    {
     "data": {
      "text/plain": [
       "bytes"
      ]
     },
     "execution_count": 4,
     "metadata": {},
     "output_type": "execute_result"
    }
   ],
   "source": [
    "## データ型の確認\n",
    "type(b\"some bytes\")"
   ]
  },
  {
   "cell_type": "code",
   "execution_count": 5,
   "metadata": {},
   "outputs": [
    {
     "data": {
      "text/plain": [
       "bytearray(b'some bytes')"
      ]
     },
     "execution_count": 5,
     "metadata": {},
     "output_type": "execute_result"
    }
   ],
   "source": [
    "# bytearray型データの作成\n",
    "bytearray(b'some bytes')"
   ]
  },
  {
   "cell_type": "code",
   "execution_count": 6,
   "metadata": {},
   "outputs": [
    {
     "data": {
      "text/plain": [
       "b'\\xe3\\x82\\xb9\\xe3\\x83\\x88\\xe3\\x83\\xaa\\xe3\\x83\\xb3\\xe3\\x82\\xb0'"
      ]
     },
     "execution_count": 6,
     "metadata": {},
     "output_type": "execute_result"
    }
   ],
   "source": [
    "# 文字からバイトにエンコード\n",
    "'ストリング'.encode(encoding='utf-8')"
   ]
  },
  {
   "cell_type": "code",
   "execution_count": 7,
   "metadata": {},
   "outputs": [
    {
     "data": {
      "text/plain": [
       "'ストリング'"
      ]
     },
     "execution_count": 7,
     "metadata": {},
     "output_type": "execute_result"
    }
   ],
   "source": [
    "# バイトから文字列へ\n",
    "b'\\xe3\\x82\\xb9\\xe3\\x83\\x88\\xe3\\x83\\xaa\\xe3\\x83\\xb3\\xe3\\x82\\xb0'.decode(encoding='utf-8')"
   ]
  },
  {
   "cell_type": "code",
   "execution_count": 8,
   "metadata": {},
   "outputs": [
    {
     "data": {
      "text/plain": [
       "'some,comma,separated,values'"
      ]
     },
     "execution_count": 8,
     "metadata": {},
     "output_type": "execute_result"
    }
   ],
   "source": [
    "# 文字列の連結\n",
    "','.join(['some','comma','separated','values'])"
   ]
  },
  {
   "cell_type": "code",
   "execution_count": 9,
   "metadata": {},
   "outputs": [
    {
     "name": "stdout",
     "output_type": "stream",
     "text": [
      "2^0==   1\n",
      "2^1==   2\n",
      "2^2==   4\n",
      "2^3==   8\n",
      "2^4==  16\n",
      "2^5==  32\n",
      "2^6==  64\n",
      "2^7== 128\n",
      "2^8== 256\n",
      "2^9== 512\n"
     ]
    }
   ],
   "source": [
    "# f文字列の使い方例\n",
    "for x in range(10):\n",
    "    print(f\"2^{x}=={2**x:4d}\")"
   ]
  },
  {
   "cell_type": "code",
   "execution_count": 10,
   "metadata": {},
   "outputs": [
    {
     "data": {
      "text/plain": [
       "[0, 2, 4, 6, 8]"
      ]
     },
     "execution_count": 10,
     "metadata": {},
     "output_type": "execute_result"
    }
   ],
   "source": [
    "# リスト内包表記とif分の組み合わせ\n",
    "[i for i in range(10) if i % 2 ==0]"
   ]
  },
  {
   "cell_type": "code",
   "execution_count": 11,
   "metadata": {},
   "outputs": [
    {
     "name": "stdout",
     "output_type": "stream",
     "text": [
      "0 one\n",
      "1 two\n",
      "2 three\n"
     ]
    }
   ],
   "source": [
    "for i , element in enumerate(['one', 'two', 'three']):\n",
    "    print(i, element)"
   ]
  },
  {
   "cell_type": "code",
   "execution_count": 12,
   "metadata": {},
   "outputs": [
    {
     "name": "stdout",
     "output_type": "stream",
     "text": [
      "(1, 4)\n",
      "(2, 5)\n",
      "(3, 6)\n"
     ]
    }
   ],
   "source": [
    "for items in zip([1,2,3],[4,5,6]):\n",
    "    print(items)"
   ]
  },
  {
   "cell_type": "code",
   "execution_count": 13,
   "metadata": {},
   "outputs": [
    {
     "name": "stdout",
     "output_type": "stream",
     "text": [
      "(1, 2, 3)\n",
      "(4, 5, 6)\n"
     ]
    }
   ],
   "source": [
    "for items in zip(*zip([1,2,3],[4,5,6])):\n",
    "    print(items)"
   ]
  },
  {
   "cell_type": "code",
   "execution_count": 14,
   "metadata": {},
   "outputs": [
    {
     "name": "stdout",
     "output_type": "stream",
     "text": [
      "(1, 1)\n",
      "(2, 2)\n"
     ]
    }
   ],
   "source": [
    "# zip関数は一番短い引数に合わせる\n",
    "for items in zip([1,2,3,4],[1,2]):\n",
    "    print(items)"
   ]
  },
  {
   "cell_type": "code",
   "execution_count": 15,
   "metadata": {},
   "outputs": [
    {
     "name": "stdout",
     "output_type": "stream",
     "text": [
      "foo\n",
      "hoge\n",
      "22\n"
     ]
    }
   ],
   "source": [
    "# アンパック\n",
    "first, second, third = 'foo', 'hoge', 22\n",
    "print(\n",
    "    first,\n",
    "    second,\n",
    "    third,\n",
    "    sep='\\n'\n",
    ")"
   ]
  },
  {
   "cell_type": "code",
   "execution_count": 16,
   "metadata": {},
   "outputs": [
    {
     "name": "stdout",
     "output_type": "stream",
     "text": [
      "0\n",
      "1\n",
      "[2, 3]\n"
     ]
    }
   ],
   "source": [
    "# *を使って残りを一つにキャッチ\n",
    "first, second, *rest = 0, 1, 2, 3\n",
    "print(\n",
    "    first,\n",
    "    second,\n",
    "    rest,\n",
    "    sep='\\n'\n",
    ")"
   ]
  },
  {
   "cell_type": "code",
   "execution_count": 17,
   "metadata": {},
   "outputs": [
    {
     "name": "stdout",
     "output_type": "stream",
     "text": [
      "0\n",
      "[1, 2]\n",
      "1\n"
     ]
    }
   ],
   "source": [
    "# 位置がずれた場合\n",
    "first, *inner, last = 0, 1, 2,3\n",
    "print(\n",
    "    first,\n",
    "    inner,\n",
    "    second,\n",
    "    sep='\\n'\n",
    ")"
   ]
  },
  {
   "cell_type": "code",
   "execution_count": 18,
   "metadata": {},
   "outputs": [
    {
     "data": {
      "text/plain": [
       "(1, 2, 3, 4)"
      ]
     },
     "execution_count": 18,
     "metadata": {},
     "output_type": "execute_result"
    }
   ],
   "source": [
    "# アンパック応用\n",
    "(a,b), (c,d) = (1,2),(3,4)\n",
    "a, b, c, d"
   ]
  },
  {
   "cell_type": "code",
   "execution_count": 19,
   "metadata": {},
   "outputs": [
    {
     "data": {
      "text/plain": [
       "dict_items([('name', 'John'), ('last_name', 'Doe'), ('age', 42)])"
      ]
     },
     "execution_count": 19,
     "metadata": {},
     "output_type": "execute_result"
    }
   ],
   "source": [
    "# 辞書型の要素追加\n",
    "person = {'name':'John', 'last_name':'Doe'}\n",
    "# ここは関数を変数に格納し呼び出しやすくする\n",
    "items = person.items()\n",
    "person['age']=42\n",
    "items\n"
   ]
  },
  {
   "cell_type": "code",
   "execution_count": 20,
   "metadata": {},
   "outputs": [
    {
     "data": {
      "text/plain": [
       "<method-wrapper '__hash__' of tuple object at 0x000001D4949CDC60>"
      ]
     },
     "execution_count": 20,
     "metadata": {},
     "output_type": "execute_result"
    }
   ],
   "source": [
    "(1,2,3,4).__hash__"
   ]
  },
  {
   "cell_type": "code",
   "execution_count": 21,
   "metadata": {},
   "outputs": [
    {
     "data": {
      "text/plain": [
       "{0: None, 1: None, 2: None, 3: None, 4: None}"
      ]
     },
     "execution_count": 21,
     "metadata": {},
     "output_type": "execute_result"
    }
   ],
   "source": [
    "# 辞書内包表記\n",
    "{number: None for number in range(5)}"
   ]
  },
  {
   "cell_type": "code",
   "execution_count": 28,
   "metadata": {},
   "outputs": [
    {
     "name": "stdout",
     "output_type": "stream",
     "text": [
      "{'d': [0, 2], 'b': 1, 'a': 3}\n"
     ]
    }
   ],
   "source": [
    "def fun(**kwargs):\n",
    "    print(kwargs)\n",
    "\n",
    "fun(d=[0,2], b=1, a=3)"
   ]
  },
  {
   "cell_type": "code",
   "execution_count": 22,
   "metadata": {},
   "outputs": [
    {
     "data": {
      "text/plain": [
       "dict_keys(['a', 'b'])"
      ]
     },
     "execution_count": 22,
     "metadata": {},
     "output_type": "execute_result"
    }
   ],
   "source": [
    "# 辞書型の扱い\n",
    "d = {'a':10, 'b':29}\n",
    "# 辞書のキー確認\n",
    "d.keys()"
   ]
  },
  {
   "cell_type": "code",
   "execution_count": 23,
   "metadata": {},
   "outputs": [
    {
     "data": {
      "text/plain": [
       "dict_values([10, 29])"
      ]
     },
     "execution_count": 23,
     "metadata": {},
     "output_type": "execute_result"
    }
   ],
   "source": [
    "# 辞書の値確認\n",
    "d.values()"
   ]
  },
  {
   "cell_type": "code",
   "execution_count": 30,
   "metadata": {},
   "outputs": [
    {
     "data": {
      "text/plain": [
       "{frozenset({1, 2, 3}), frozenset({2, 3, 4})}"
      ]
     },
     "execution_count": 30,
     "metadata": {},
     "output_type": "execute_result"
    }
   ],
   "source": [
    "# 集合\n",
    "# set:\n",
    "#   mutableで順序がない有限集合。要素はユニークでかつimmutableかつhashableなオブジェクト\n",
    "# frozenset:\n",
    "#   immutableかつhashableな順序がない有限集合。要素はユニークでimmutableかつhashableなオブジェクト\n",
    "\n",
    "set([frozenset([1,2,3]), frozenset([2,3,4])])"
   ]
  },
  {
   "cell_type": "code",
   "execution_count": 24,
   "metadata": {},
   "outputs": [
    {
     "name": "stdout",
     "output_type": "stream",
     "text": [
      "Hello\n"
     ]
    }
   ],
   "source": [
    "# lambdaの使い方\n",
    "# 数行程度で終了する関数を略して書く\n",
    "lam_func = lambda word:word.capitalize()\n",
    "print(lam_func('hello'))"
   ]
  },
  {
   "cell_type": "code",
   "execution_count": null,
   "metadata": {},
   "outputs": [],
   "source": []
  }
 ],
 "metadata": {
  "kernelspec": {
   "display_name": "Python 3",
   "language": "python",
   "name": "python3"
  },
  "language_info": {
   "codemirror_mode": {
    "name": "ipython",
    "version": 3
   },
   "file_extension": ".py",
   "mimetype": "text/x-python",
   "name": "python",
   "nbconvert_exporter": "python",
   "pygments_lexer": "ipython3",
   "version": "3.12.3"
  }
 },
 "nbformat": 4,
 "nbformat_minor": 2
}
