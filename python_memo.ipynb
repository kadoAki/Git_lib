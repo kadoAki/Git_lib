{
 "cells": [
  {
   "cell_type": "markdown",
   "metadata": {},
   "source": [
    "# Python使い方メモ"
   ]
  },
  {
   "cell_type": "markdown",
   "metadata": {},
   "source": [
    "## 0_PowerShellからPythonを使う\n",
    "### 0-1_環境構築\n",
    "* powershellでpythonの仮想環境を構築する\n",
    "    ```powershell\n",
    "    # カレントディレクトリにディレクトリ名envで仮想環境構築\n",
    "    py -m venv env\n",
    "    # 仮想環境起動\n",
    "    ./env/Scripts/Activate.ps1\n",
    "    # 仮想環境停止\n",
    "    deactivate\n",
    "    # pipからライブラリインストール\n",
    "    pip install ライブラリ名 == バージョン\n",
    "    # インストールしたライブラリの一覧\n",
    "    pip list\n",
    "    # インストールしたライブラリの一覧をテキスト化\n",
    "    pip freeze > requirements.txt\n",
    "    # テキスト化したライブラリをまとめてインストール\n",
    "    pip install -r requirements.txt\n",
    "    ```"
   ]
  },
  {
   "cell_type": "markdown",
   "metadata": {},
   "source": [
    "\n",
    "### python.exeへのコマンドライン\n",
    "~./AppData/Local/Programs/Python/Python312/Doc/html/tutorial/interpreter.html\n",
    "* python\n",
    "  * -c　<コマンド> \n",
    "    * コマンドでコード実行\n",
    "  * -m  <モジュール>\n",
    "    * モジュール検索し、内容をモジュール\n",
    "  * -? or -h\n",
    "    * ヘルプ\n",
    "  * --help-env\n",
    "    * Python固有の環境変数の簡単な説明を出力し終了する\n",
    "  * --help-xオプション\n",
    "    * 実装固有のオプション説明を出力し終了する\n",
    "  * --help-all\n",
    "    * 完全な使用情報を出力し終了する\n",
    "  * -v\n",
    "    * バージョン表示"
   ]
  },
  {
   "cell_type": "code",
   "execution_count": 11,
   "metadata": {},
   "outputs": [
    {
     "data": {
      "text/plain": [
       "'ストリング'"
      ]
     },
     "execution_count": 11,
     "metadata": {},
     "output_type": "execute_result"
    }
   ],
   "source": [
    "# 文字列とバイト\n",
    "bytes([102, 111, 111])\n",
    "# > b'foo'\n",
    "list(b'foo bar')\n",
    "# > [102, 111, 111, 32, 98, 97, 114]\n",
    "tuple(b'foo bar')\n",
    "# > (102, 111, 111, 32, 98, 97, 114)\n",
    "type(b\"some bytes\")\n",
    "# > bytes\n",
    "bytearray(b'some bytes')\n",
    "# > bytearray(b'some bytes')\n",
    "'ストリング'.encode(encoding='utf-8')\n",
    "# > b'\\xe3\\x82\\xb9\\xe3\\x83\\x88\\xe3\\x83\\xaa\\xe3\\x83\\xb3\\xe3\\x82\\xb0'\n",
    "b'\\xe3\\x82\\xb9\\xe3\\x83\\x88\\xe3\\x83\\xaa\\xe3\\x83\\xb3\\xe3\\x82\\xb0'.decode(encoding='utf-8')\n",
    "# > 'ストリング'"
   ]
  },
  {
   "cell_type": "code",
   "execution_count": null,
   "metadata": {},
   "outputs": [],
   "source": []
  },
  {
   "cell_type": "code",
   "execution_count": 1,
   "metadata": {},
   "outputs": [
    {
     "data": {
      "text/plain": [
       "dict_keys(['a', 'b'])"
      ]
     },
     "execution_count": 1,
     "metadata": {},
     "output_type": "execute_result"
    }
   ],
   "source": [
    "# 辞書堅の扱い\n",
    "d = {'a':10, 'b':29}\n",
    "# 辞書のキー確認\n",
    "d.keys()"
   ]
  },
  {
   "cell_type": "code",
   "execution_count": 2,
   "metadata": {},
   "outputs": [
    {
     "data": {
      "text/plain": [
       "dict_values([10, 29])"
      ]
     },
     "execution_count": 2,
     "metadata": {},
     "output_type": "execute_result"
    }
   ],
   "source": [
    "# 辞書の値確認\n",
    "d.values()"
   ]
  },
  {
   "cell_type": "code",
   "execution_count": 3,
   "metadata": {},
   "outputs": [
    {
     "name": "stdout",
     "output_type": "stream",
     "text": [
      "Hello\n"
     ]
    }
   ],
   "source": [
    "# lambdaの使い方\n",
    "# 数行程度で終了する関数を略して書く\n",
    "lam_func = lambda word:word.capitalize()\n",
    "print(lam_func('hello'))"
   ]
  },
  {
   "cell_type": "code",
   "execution_count": null,
   "metadata": {},
   "outputs": [],
   "source": []
  }
 ],
 "metadata": {
  "kernelspec": {
   "display_name": "Python 3",
   "language": "python",
   "name": "python3"
  },
  "language_info": {
   "codemirror_mode": {
    "name": "ipython",
    "version": 3
   },
   "file_extension": ".py",
   "mimetype": "text/x-python",
   "name": "python",
   "nbconvert_exporter": "python",
   "pygments_lexer": "ipython3",
   "version": "3.12.3"
  }
 },
 "nbformat": 4,
 "nbformat_minor": 2
}
