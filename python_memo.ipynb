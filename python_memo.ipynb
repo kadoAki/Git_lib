{
 "cells": [
  {
   "cell_type": "markdown",
   "metadata": {},
   "source": [
    "# Python使い方メモ"
   ]
  },
  {
   "cell_type": "markdown",
   "metadata": {},
   "source": [
    "## 0_PowerShellからPythonを使う\n",
    "### 0-1_環境構築\n",
    "* powershellでpythonの仮想環境を構築する\n",
    "    ```powershell\n",
    "    # カレントディレクトリにディレクトリ名envで仮想環境構築\n",
    "    py -m venv env\n",
    "    # 仮想環境起動\n",
    "    ./env/Scripts/Activate.ps1\n",
    "    # 仮想環境停止\n",
    "    deactivate\n",
    "    # pipからライブラリインストール\n",
    "    pip install ライブラリ名 == バージョン\n",
    "    # インストールしたライブラリの一覧\n",
    "    pip list\n",
    "    # インストールしたライブラリの一覧をテキスト化\n",
    "    pip freeze > requirements.txt\n",
    "    # テキスト化したライブラリをまとめてインストール\n",
    "    pip install -r requirements.txt\n",
    "    ```"
   ]
  },
  {
   "cell_type": "markdown",
   "metadata": {},
   "source": [
    "\n",
    "### python.exeへのコマンドライン\n",
    "~./AppData/Local/Programs/Python/Python312/Doc/html/tutorial/interpreter.html\n",
    "* python\n",
    "  * -c　<コマンド> \n",
    "    * コマンドでコード実行\n",
    "  * -m  <モジュール>\n",
    "    * モジュール検索し、内容をモジュール\n",
    "  * -? or -h\n",
    "    * ヘルプ\n",
    "  * --help-env\n",
    "    * Python固有の環境変数の簡単な説明を出力し終了する\n",
    "  * --help-xオプション\n",
    "    * 実装固有のオプション説明を出力し終了する\n",
    "  * --help-all\n",
    "    * 完全な使用情報を出力し終了する\n",
    "  * -v\n",
    "    * バージョン表示"
   ]
  },
  {
   "cell_type": "markdown",
   "metadata": {},
   "source": [
    "## python\n",
    "### 文字列とバイト"
   ]
  },
  {
   "cell_type": "code",
   "execution_count": 1,
   "metadata": {},
   "outputs": [
    {
     "data": {
      "text/plain": [
       "b'foo'"
      ]
     },
     "execution_count": 1,
     "metadata": {},
     "output_type": "execute_result"
    }
   ],
   "source": [
    "# バイトから文字\n",
    "bytes([102, 111, 111])"
   ]
  },
  {
   "cell_type": "code",
   "execution_count": 2,
   "metadata": {},
   "outputs": [
    {
     "data": {
      "text/plain": [
       "[102, 111, 111, 32, 98, 97, 114]"
      ]
     },
     "execution_count": 2,
     "metadata": {},
     "output_type": "execute_result"
    }
   ],
   "source": [
    "# リスト形式で文字からバイト\n",
    "list(b'foo bar')"
   ]
  },
  {
   "cell_type": "code",
   "execution_count": 3,
   "metadata": {},
   "outputs": [
    {
     "data": {
      "text/plain": [
       "(102, 111, 111, 32, 98, 97, 114)"
      ]
     },
     "execution_count": 3,
     "metadata": {},
     "output_type": "execute_result"
    }
   ],
   "source": [
    "# タプル形式で文字からバイト\n",
    "tuple(b'foo bar')"
   ]
  },
  {
   "cell_type": "code",
   "execution_count": 4,
   "metadata": {},
   "outputs": [
    {
     "data": {
      "text/plain": [
       "bytes"
      ]
     },
     "execution_count": 4,
     "metadata": {},
     "output_type": "execute_result"
    }
   ],
   "source": [
    "## データ型の確認\n",
    "type(b\"some bytes\")"
   ]
  },
  {
   "cell_type": "code",
   "execution_count": 5,
   "metadata": {},
   "outputs": [
    {
     "data": {
      "text/plain": [
       "bytearray(b'some bytes')"
      ]
     },
     "execution_count": 5,
     "metadata": {},
     "output_type": "execute_result"
    }
   ],
   "source": [
    "# bytearray型データの作成\n",
    "bytearray(b'some bytes')"
   ]
  },
  {
   "cell_type": "code",
   "execution_count": 6,
   "metadata": {},
   "outputs": [
    {
     "data": {
      "text/plain": [
       "b'\\xe3\\x82\\xb9\\xe3\\x83\\x88\\xe3\\x83\\xaa\\xe3\\x83\\xb3\\xe3\\x82\\xb0'"
      ]
     },
     "execution_count": 6,
     "metadata": {},
     "output_type": "execute_result"
    }
   ],
   "source": [
    "# 文字からバイトにエンコード\n",
    "'ストリング'.encode(encoding='utf-8')"
   ]
  },
  {
   "cell_type": "code",
   "execution_count": 7,
   "metadata": {},
   "outputs": [
    {
     "data": {
      "text/plain": [
       "'ストリング'"
      ]
     },
     "execution_count": 7,
     "metadata": {},
     "output_type": "execute_result"
    }
   ],
   "source": [
    "# バイトから文字列へ\n",
    "b'\\xe3\\x82\\xb9\\xe3\\x83\\x88\\xe3\\x83\\xaa\\xe3\\x83\\xb3\\xe3\\x82\\xb0'.decode(encoding='utf-8')"
   ]
  },
  {
   "cell_type": "code",
   "execution_count": 8,
   "metadata": {},
   "outputs": [
    {
     "data": {
      "text/plain": [
       "'some,comma,separated,values'"
      ]
     },
     "execution_count": 8,
     "metadata": {},
     "output_type": "execute_result"
    }
   ],
   "source": [
    "# 文字列の連結\n",
    "','.join(['some','comma','separated','values'])"
   ]
  },
  {
   "cell_type": "code",
   "execution_count": 9,
   "metadata": {},
   "outputs": [
    {
     "name": "stdout",
     "output_type": "stream",
     "text": [
      "2^0==   1\n",
      "2^1==   2\n",
      "2^2==   4\n",
      "2^3==   8\n",
      "2^4==  16\n",
      "2^5==  32\n",
      "2^6==  64\n",
      "2^7== 128\n",
      "2^8== 256\n",
      "2^9== 512\n"
     ]
    }
   ],
   "source": [
    "# f文字列の使い方例\n",
    "for x in range(10):\n",
    "    print(f\"2^{x}=={2**x:4d}\")"
   ]
  },
  {
   "cell_type": "code",
   "execution_count": 10,
   "metadata": {},
   "outputs": [
    {
     "data": {
      "text/plain": [
       "[0, 2, 4, 6, 8]"
      ]
     },
     "execution_count": 10,
     "metadata": {},
     "output_type": "execute_result"
    }
   ],
   "source": [
    "# リスト内包表記とif分の組み合わせ\n",
    "[i for i in range(10) if i % 2 ==0]"
   ]
  },
  {
   "cell_type": "code",
   "execution_count": 11,
   "metadata": {},
   "outputs": [
    {
     "name": "stdout",
     "output_type": "stream",
     "text": [
      "0 one\n",
      "1 two\n",
      "2 three\n"
     ]
    }
   ],
   "source": [
    "for i , element in enumerate(['one', 'two', 'three']):\n",
    "    print(i, element)"
   ]
  },
  {
   "cell_type": "code",
   "execution_count": 12,
   "metadata": {},
   "outputs": [
    {
     "name": "stdout",
     "output_type": "stream",
     "text": [
      "(1, 4)\n",
      "(2, 5)\n",
      "(3, 6)\n"
     ]
    }
   ],
   "source": [
    "for items in zip([1,2,3],[4,5,6]):\n",
    "    print(items)"
   ]
  },
  {
   "cell_type": "code",
   "execution_count": 13,
   "metadata": {},
   "outputs": [
    {
     "name": "stdout",
     "output_type": "stream",
     "text": [
      "(1, 2, 3)\n",
      "(4, 5, 6)\n"
     ]
    }
   ],
   "source": [
    "for items in zip(*zip([1,2,3],[4,5,6])):\n",
    "    print(items)"
   ]
  },
  {
   "cell_type": "code",
   "execution_count": 14,
   "metadata": {},
   "outputs": [
    {
     "name": "stdout",
     "output_type": "stream",
     "text": [
      "(1, 1)\n",
      "(2, 2)\n"
     ]
    }
   ],
   "source": [
    "# zip関数は一番短い引数に合わせる\n",
    "for items in zip([1,2,3,4],[1,2]):\n",
    "    print(items)"
   ]
  },
  {
   "cell_type": "code",
   "execution_count": 15,
   "metadata": {},
   "outputs": [
    {
     "name": "stdout",
     "output_type": "stream",
     "text": [
      "foo\n",
      "hoge\n",
      "22\n"
     ]
    }
   ],
   "source": [
    "# アンパック\n",
    "first, second, third = 'foo', 'hoge', 22\n",
    "print(\n",
    "    first,\n",
    "    second,\n",
    "    third,\n",
    "    sep='\\n'\n",
    ")"
   ]
  },
  {
   "cell_type": "code",
   "execution_count": 16,
   "metadata": {},
   "outputs": [
    {
     "name": "stdout",
     "output_type": "stream",
     "text": [
      "0\n",
      "1\n",
      "[2, 3]\n"
     ]
    }
   ],
   "source": [
    "# *を使って残りを一つにキャッチ\n",
    "first, second, *rest = 0, 1, 2, 3\n",
    "print(\n",
    "    first,\n",
    "    second,\n",
    "    rest,\n",
    "    sep='\\n'\n",
    ")"
   ]
  },
  {
   "cell_type": "code",
   "execution_count": 17,
   "metadata": {},
   "outputs": [
    {
     "name": "stdout",
     "output_type": "stream",
     "text": [
      "0\n",
      "[1, 2]\n",
      "1\n"
     ]
    }
   ],
   "source": [
    "# 位置がずれた場合\n",
    "first, *inner, last = 0, 1, 2,3\n",
    "print(\n",
    "    first,\n",
    "    inner,\n",
    "    second,\n",
    "    sep='\\n'\n",
    ")"
   ]
  },
  {
   "cell_type": "code",
   "execution_count": 18,
   "metadata": {},
   "outputs": [
    {
     "data": {
      "text/plain": [
       "(1, 2, 3, 4)"
      ]
     },
     "execution_count": 18,
     "metadata": {},
     "output_type": "execute_result"
    }
   ],
   "source": [
    "# アンパック応用\n",
    "(a,b), (c,d) = (1,2),(3,4)\n",
    "a, b, c, d"
   ]
  },
  {
   "cell_type": "code",
   "execution_count": 19,
   "metadata": {},
   "outputs": [
    {
     "data": {
      "text/plain": [
       "dict_items([('name', 'John'), ('last_name', 'Doe'), ('age', 42)])"
      ]
     },
     "execution_count": 19,
     "metadata": {},
     "output_type": "execute_result"
    }
   ],
   "source": [
    "# 辞書型の要素追加\n",
    "person = {'name':'John', 'last_name':'Doe'}\n",
    "# ここは関数を変数に格納し呼び出しやすくする\n",
    "items = person.items()\n",
    "person['age']=42\n",
    "items\n"
   ]
  },
  {
   "cell_type": "code",
   "execution_count": 20,
   "metadata": {},
   "outputs": [
    {
     "data": {
      "text/plain": [
       "<method-wrapper '__hash__' of tuple object at 0x000001D4949CDC60>"
      ]
     },
     "execution_count": 20,
     "metadata": {},
     "output_type": "execute_result"
    }
   ],
   "source": [
    "(1,2,3,4).__hash__"
   ]
  },
  {
   "cell_type": "code",
   "execution_count": 21,
   "metadata": {},
   "outputs": [
    {
     "data": {
      "text/plain": [
       "{0: None, 1: None, 2: None, 3: None, 4: None}"
      ]
     },
     "execution_count": 21,
     "metadata": {},
     "output_type": "execute_result"
    }
   ],
   "source": [
    "# 辞書内包表記\n",
    "{number: None for number in range(5)}"
   ]
  },
  {
   "cell_type": "code",
   "execution_count": 28,
   "metadata": {},
   "outputs": [
    {
     "name": "stdout",
     "output_type": "stream",
     "text": [
      "{'d': [0, 2], 'b': 1, 'a': 3}\n"
     ]
    }
   ],
   "source": [
    "def fun(**kwargs):\n",
    "    print(kwargs)\n",
    "\n",
    "fun(d=[0,2], b=1, a=3)"
   ]
  },
  {
   "cell_type": "code",
   "execution_count": 22,
   "metadata": {},
   "outputs": [
    {
     "data": {
      "text/plain": [
       "dict_keys(['a', 'b'])"
      ]
     },
     "execution_count": 22,
     "metadata": {},
     "output_type": "execute_result"
    }
   ],
   "source": [
    "# 辞書型の扱い\n",
    "d = {'a':10, 'b':29}\n",
    "# 辞書のキー確認\n",
    "d.keys()"
   ]
  },
  {
   "cell_type": "code",
   "execution_count": 23,
   "metadata": {},
   "outputs": [
    {
     "data": {
      "text/plain": [
       "dict_values([10, 29])"
      ]
     },
     "execution_count": 23,
     "metadata": {},
     "output_type": "execute_result"
    }
   ],
   "source": [
    "# 辞書の値確認\n",
    "d.values()"
   ]
  },
  {
   "cell_type": "code",
   "execution_count": 31,
   "metadata": {},
   "outputs": [
    {
     "data": {
      "text/plain": [
       "{frozenset({1, 2, 3}), frozenset({2, 3, 4})}"
      ]
     },
     "execution_count": 31,
     "metadata": {},
     "output_type": "execute_result"
    }
   ],
   "source": [
    "# 集合\n",
    "# set:\n",
    "#   mutableで順序がない有限集合。要素はユニークでかつimmutableかつhashableなオブジェクト\n",
    "# frozenset:\n",
    "#   immutableかつhashableな順序がない有限集合。要素はユニークでimmutableかつhashableなオブジェクト\n",
    "\n",
    "set([frozenset([1,2,3]), frozenset([2,3,4])])"
   ]
  },
  {
   "cell_type": "code",
   "execution_count": 32,
   "metadata": {},
   "outputs": [
    {
     "data": {
      "text/plain": [
       "frozenset({frozenset({1, 2, 3}), frozenset({2, 3, 4})})"
      ]
     },
     "execution_count": 32,
     "metadata": {},
     "output_type": "execute_result"
    }
   ],
   "source": [
    "frozenset([frozenset([1,2,3]),frozenset([2,3,4])])"
   ]
  },
  {
   "cell_type": "code",
   "execution_count": 35,
   "metadata": {},
   "outputs": [
    {
     "data": {
      "text/plain": [
       "'Point(x, y)'"
      ]
     },
     "execution_count": 35,
     "metadata": {},
     "output_type": "execute_result"
    }
   ],
   "source": [
    "# collectionモジュールの特別なデータコンテナ\n",
    "import collections\n",
    "Point = collections.namedtuple('Point', ['x','y'])\n",
    "Point.__doc__"
   ]
  },
  {
   "cell_type": "code",
   "execution_count": 42,
   "metadata": {},
   "outputs": [],
   "source": [
    "# enumモジュールのシンボル列挙型\n",
    "# シンボル列挙型を作成するための基底クラス\n",
    "\n",
    "from enum import Enum\n",
    "class Weekdays(Enum):\n",
    "    MONDAY = 0\n",
    "    TUESDAY = 1\n",
    "    WEDNESDAY =2"
   ]
  },
  {
   "cell_type": "code",
   "execution_count": 43,
   "metadata": {},
   "outputs": [],
   "source": [
    "# 自動生成で置き換えられる\n",
    "from enum import Enum, auto\n",
    "\n",
    "class Weekday(Enum):\n",
    "    MONDAY = auto()\n",
    "    TUEDAY = auto()\n",
    "    WEDNESDAY = auto()"
   ]
  },
  {
   "cell_type": "markdown",
   "metadata": {},
   "source": [
    "### イテレータ\n",
    "* イテレータとは、単にイテレータプロトコルを実装したコンテナオブジェクト\n",
    "* イテレータプロトコルは\n",
    "  * コンテナの次の要素を返す __next__() メソッド\n",
    "  * イテレータ自身を返す __iter__()メソッド"
   ]
  },
  {
   "cell_type": "code",
   "execution_count": 12,
   "metadata": {},
   "outputs": [
    {
     "name": "stdout",
     "output_type": "stream",
     "text": [
      "a\n",
      "b\n",
      "c\n"
     ]
    }
   ],
   "source": [
    "i = iter('abc')\n",
    "for elem in i:print(elem)"
   ]
  },
  {
   "cell_type": "code",
   "execution_count": 13,
   "metadata": {},
   "outputs": [
    {
     "ename": "StopIteration",
     "evalue": "",
     "output_type": "error",
     "traceback": [
      "\u001b[1;31m---------------------------------------------------------------------------\u001b[0m",
      "\u001b[1;31mStopIteration\u001b[0m                             Traceback (most recent call last)",
      "Cell \u001b[1;32mIn[13], line 2\u001b[0m\n\u001b[0;32m      1\u001b[0m \u001b[38;5;66;03m# シーケンスの要素を取り出し終わるとStopIteration例外が発生する\u001b[39;00m\n\u001b[1;32m----> 2\u001b[0m \u001b[38;5;28;43mnext\u001b[39;49m\u001b[43m(\u001b[49m\u001b[43mi\u001b[49m\u001b[43m)\u001b[49m\n",
      "\u001b[1;31mStopIteration\u001b[0m: "
     ]
    }
   ],
   "source": [
    "# シーケンスの要素を取り出し終わるとStopIteration例外が発生する\n",
    "next(i)"
   ]
  },
  {
   "cell_type": "markdown",
   "metadata": {},
   "source": [
    "### ジェネレータ\n",
    "* ジェネレータを使用すると一連の要素を返す関数をシンプル・効率的に実装できる\n",
    "* yield文を使用し、関数を一時的に停止させ途中経過の結果を返す\n",
    "* 一時停止中も実行コンテキストが保存されているため、必要であれば止まった場所から再実行できる"
   ]
  },
  {
   "cell_type": "code",
   "execution_count": 14,
   "metadata": {},
   "outputs": [],
   "source": [
    "# 例: フィボナッチ数列\n",
    "def fibonacci():\n",
    "    a, b = 0, 1\n",
    "    while True:\n",
    "        yield b\n",
    "        a, b = b, a + b"
   ]
  },
  {
   "cell_type": "code",
   "execution_count": 15,
   "metadata": {},
   "outputs": [
    {
     "data": {
      "text/plain": [
       "1"
      ]
     },
     "execution_count": 15,
     "metadata": {},
     "output_type": "execute_result"
    }
   ],
   "source": [
    "fib = fibonacci()\n",
    "next(fib)"
   ]
  },
  {
   "cell_type": "code",
   "execution_count": 16,
   "metadata": {},
   "outputs": [
    {
     "data": {
      "text/plain": [
       "1"
      ]
     },
     "execution_count": 16,
     "metadata": {},
     "output_type": "execute_result"
    }
   ],
   "source": [
    "next(fib)"
   ]
  },
  {
   "cell_type": "code",
   "execution_count": 17,
   "metadata": {},
   "outputs": [
    {
     "data": {
      "text/plain": [
       "2"
      ]
     },
     "execution_count": 17,
     "metadata": {},
     "output_type": "execute_result"
    }
   ],
   "source": [
    "next(fib)"
   ]
  },
  {
   "cell_type": "code",
   "execution_count": 18,
   "metadata": {},
   "outputs": [
    {
     "data": {
      "text/plain": [
       "[3, 5, 8, 13, 21, 34, 55, 89, 144, 233]"
      ]
     },
     "execution_count": 18,
     "metadata": {},
     "output_type": "execute_result"
    }
   ],
   "source": [
    "[next(fib) for i in range(10)]"
   ]
  },
  {
   "cell_type": "code",
   "execution_count": 19,
   "metadata": {},
   "outputs": [
    {
     "data": {
      "text/plain": [
       "[377, 610, 987, 1597, 2584, 4181, 6765, 10946, 17711, 28657]"
      ]
     },
     "execution_count": 19,
     "metadata": {},
     "output_type": "execute_result"
    }
   ],
   "source": [
    "[next(fib) for i in range(10)]"
   ]
  },
  {
   "cell_type": "code",
   "execution_count": 20,
   "metadata": {},
   "outputs": [
    {
     "data": {
      "text/plain": [
       "TokenInfo(type=65 (NL), string='\\n', start=(1, 0), end=(1, 1), line='\\n')"
      ]
     },
     "execution_count": 20,
     "metadata": {},
     "output_type": "execute_result"
    }
   ],
   "source": [
    "import io\n",
    "import tokenize\n",
    "code = io.StringIO(\"\"\"\n",
    "    if __name__ == \"__name__\":\n",
    "    print(\"hello world!\")\n",
    "    \"\"\")\n",
    "tokens = tokenize.generate_tokens(code.readline)\n",
    "next(tokens)"
   ]
  },
  {
   "cell_type": "code",
   "execution_count": 28,
   "metadata": {},
   "outputs": [],
   "source": [
    "# 例:\n",
    "def capitalize(values):\n",
    "    for value in values:\n",
    "        yield value.upper()\n",
    "\n",
    "def hyphenate(values):\n",
    "    for value in values:\n",
    "        yield f\"-{value}-\"\n",
    "\n",
    "def leetspeak(values):\n",
    "    for value in values:\n",
    "        if value in {'t', 'T'}:\n",
    "            yield '7'\n",
    "        elif value in {'e', 'E'}:\n",
    "            yield '3'\n",
    "        else:\n",
    "            yield value\n",
    "\n",
    "def join(values):\n",
    "    return \"\".join(values)"
   ]
  },
  {
   "cell_type": "code",
   "execution_count": 26,
   "metadata": {},
   "outputs": [
    {
     "data": {
      "text/plain": [
       "'THIS WILL BE UPPERCASE TEXT'"
      ]
     },
     "execution_count": 26,
     "metadata": {},
     "output_type": "execute_result"
    }
   ],
   "source": [
    "join(capitalize(\"This will be uppercase text\"))"
   ]
  },
  {
   "cell_type": "code",
   "execution_count": 29,
   "metadata": {},
   "outputs": [
    {
     "data": {
      "text/plain": [
       "\"7his isn'7 a l337sp3ak\""
      ]
     },
     "execution_count": 29,
     "metadata": {},
     "output_type": "execute_result"
    }
   ],
   "source": [
    "join(leetspeak(\"This isn't a leetspeak\"))"
   ]
  },
  {
   "cell_type": "code",
   "execution_count": 30,
   "metadata": {},
   "outputs": [
    {
     "data": {
      "text/plain": [
       "'-Will--be--hyphenated--by--words-'"
      ]
     },
     "execution_count": 30,
     "metadata": {},
     "output_type": "execute_result"
    }
   ],
   "source": [
    "join(hyphenate(\"Will be hyphenated by words\".split()))"
   ]
  },
  {
   "cell_type": "code",
   "execution_count": 31,
   "metadata": {},
   "outputs": [
    {
     "data": {
      "text/plain": [
       "'-W--i--l--l-- --b--e-- --h--y--p--h--e--n--a--t--e--d-- --b--y-- --c--h--a--r--a--c--t--e--r-'"
      ]
     },
     "execution_count": 31,
     "metadata": {},
     "output_type": "execute_result"
    }
   ],
   "source": [
    "\n",
    "join(hyphenate(\"Will be hyphenated by character\"))"
   ]
  },
  {
   "cell_type": "code",
   "execution_count": 32,
   "metadata": {},
   "outputs": [],
   "source": [
    "# nextで呼び出されたコードとのやり取り\n",
    "def psychologist():\n",
    "    print('Please tell me your problems')\n",
    "    while True:\n",
    "        answer = (yield)\n",
    "        if answer is not None:\n",
    "            if answer.endswith('?'):\n",
    "                print(\"Don't ask yourself too much questions\")\n",
    "            elif 'good' in answer:\n",
    "                print(\"Ahh that's good, go on\")\n",
    "            elif 'bad' in answer:\n",
    "                print(\"Don't be so negative\")"
   ]
  },
  {
   "cell_type": "code",
   "execution_count": 33,
   "metadata": {},
   "outputs": [],
   "source": [
    "free = psychologist()"
   ]
  },
  {
   "cell_type": "code",
   "execution_count": 34,
   "metadata": {},
   "outputs": [
    {
     "name": "stdout",
     "output_type": "stream",
     "text": [
      "Please tell me your problems\n"
     ]
    }
   ],
   "source": [
    "next(free)"
   ]
  },
  {
   "cell_type": "code",
   "execution_count": 35,
   "metadata": {},
   "outputs": [
    {
     "name": "stdout",
     "output_type": "stream",
     "text": [
      "Don't be so negative\n"
     ]
    }
   ],
   "source": [
    "free.send('I feel bad')"
   ]
  },
  {
   "cell_type": "markdown",
   "metadata": {},
   "source": [
    "### デコレータ\n",
    "* 関数やメソッドのラッピング処理をわかりやすくする\n",
    "* デコレータとして使用できるのは、一般的に1つの引数を受け取れる、名前付きのcallable(呼び出し可能)オブジェクト。\n",
    "* 戻り値として他のcallableオブジェクト(デコレーションした結果)を返す\n",
    "* 名前がつかないlambda式は使用できない\n",
    "* "
   ]
  },
  {
   "cell_type": "code",
   "execution_count": 36,
   "metadata": {},
   "outputs": [],
   "source": [
    "# 関数として実装\n",
    "def mydecorator(function):\n",
    "    def wrapped(*args, **kwargs):\n",
    "        # 実際の関数を呼び出す前に行う処理\n",
    "        result = function(*args, **kwargs)\n",
    "        return result\n",
    "    # ラッパーをデコレート済み関数として返す\n",
    "    return wrapped"
   ]
  },
  {
   "cell_type": "code",
   "execution_count": null,
   "metadata": {},
   "outputs": [],
   "source": [
    "# クラスとして実装\n",
    "class DecoratorAsClass:\n",
    "    def __init__(self, function):\n",
    "        self.function = function\n",
    "    \n",
    "    def __call__(self, *args, **kwargs):\n",
    "        result = self.function(*args, **kwargs)\n",
    "        # 呼び出し後に処理を行い、戻り値を返す\n",
    "        return result"
   ]
  },
  {
   "cell_type": "code",
   "execution_count": 19,
   "metadata": {},
   "outputs": [],
   "source": [
    "# 使用例\n",
    "from functools import wraps\n",
    "\n",
    "def repeat(number=3):\n",
    "    \"\"\"デコレートされた関数をnumberで指定された回数繰り返す\n",
    "    最後に呼ばれた関数の結果を、関数の戻り値として返す。\n",
    "    :param number:繰り返す回数。指定しなければ3\n",
    "    \"\"\"\n",
    "    def actual_decorator(function):\n",
    "        # ここにwrapsデコレータを入れるとwrapperされた関数内の情報が失われない\n",
    "        @wraps(function)\n",
    "        def wrapper(*args, **kwargs):\n",
    "            result = None\n",
    "            for _ in range(number):\n",
    "                result = function(*args, **kwargs)\n",
    "            return result\n",
    "        return wrapper\n",
    "    return actual_decorator"
   ]
  },
  {
   "cell_type": "code",
   "execution_count": 20,
   "metadata": {},
   "outputs": [],
   "source": [
    "@repeat(2)\n",
    "def print_my_call():\n",
    "    \"\"\"なくなってほしくないdoc\"\"\"\n",
    "    print(\"print_my_call() cqalled!\")\n",
    "# デコレータに括弧入れること"
   ]
  },
  {
   "cell_type": "code",
   "execution_count": 21,
   "metadata": {},
   "outputs": [
    {
     "data": {
      "text/plain": [
       "'なくなってほしくないdoc'"
      ]
     },
     "execution_count": 21,
     "metadata": {},
     "output_type": "execute_result"
    }
   ],
   "source": [
    "print_my_call.__doc__"
   ]
  },
  {
   "cell_type": "code",
   "execution_count": 22,
   "metadata": {},
   "outputs": [
    {
     "name": "stdout",
     "output_type": "stream",
     "text": [
      "print_my_call() cqalled!\n",
      "print_my_call() cqalled!\n"
     ]
    }
   ],
   "source": [
    "print_my_call()"
   ]
  },
  {
   "cell_type": "code",
   "execution_count": 2,
   "metadata": {},
   "outputs": [],
   "source": [
    "# デコレータ使用した型チェック\n",
    "rpc_info={}\n",
    "def xmlrpc(in_=(), out=(type(None),)):\n",
    "    def _xmlrpc(function):\n",
    "        # シグネチャの登録\n",
    "        func_name = function.__name__\n",
    "        rpc_info[func_name] = (in_, out)\n",
    "        def _check_types(elements, types):\n",
    "            \"\"\"型をチェックするサブ関数\"\"\"\n",
    "            if len(elements) != len(types):\n",
    "                raise TypeError('引数の個数をまがえてます')\n",
    "            typed = enumerate(zip(elements, types))\n",
    "            for index, couple in typed:\n",
    "                arg, of_the_right_type = couple\n",
    "                if isinstance(arg, of_the_right_type):\n",
    "                    continue\n",
    "                raise TypeError(\n",
    "                    'arg #%d should be %s' % (index, of_the_right_type))\n",
    "        \n",
    "        def __xmlrpc(*args):\n",
    "            # 入力をチェックする\n",
    "            checkable_args = args[1:]\n",
    "            _check_types(checkable_args,in_)\n",
    "            # 関数の実行\n",
    "            res = function(*args)\n",
    "            # 出力地のチェック\n",
    "            if not type(res) in (tuple, list):\n",
    "                checkable_res = (res,)\n",
    "            else:\n",
    "                checkable_res = res\n",
    "            _check_types(checkable_res, out)\n",
    "            return res\n",
    "        return __xmlrpc\n",
    "    return _xmlrpc\n"
   ]
  },
  {
   "cell_type": "code",
   "execution_count": 7,
   "metadata": {},
   "outputs": [],
   "source": [
    "class RPCView:\n",
    "    @xmlrpc((int, int))\n",
    "    def accept_integers(self, int1, int2):\n",
    "        print('received %d and %d' % (int1, int2))\n",
    "    @xmlrpc((str,),(int,))\n",
    "    def accept_phrase(self, phrase):\n",
    "        print('received %s' % phrase)\n",
    "        return 12"
   ]
  },
  {
   "cell_type": "code",
   "execution_count": 8,
   "metadata": {},
   "outputs": [
    {
     "data": {
      "text/plain": [
       "{'accept_integers': ((int, int), (NoneType,)),\n",
       " 'accept_phrase': ((str,), (int,))}"
      ]
     },
     "execution_count": 8,
     "metadata": {},
     "output_type": "execute_result"
    }
   ],
   "source": [
    "rpc_info"
   ]
  },
  {
   "cell_type": "code",
   "execution_count": 9,
   "metadata": {},
   "outputs": [
    {
     "name": "stdout",
     "output_type": "stream",
     "text": [
      "received 1 and 2\n"
     ]
    }
   ],
   "source": [
    "my = RPCView()\n",
    "my.accept_integers(1,2)"
   ]
  },
  {
   "cell_type": "code",
   "execution_count": 10,
   "metadata": {},
   "outputs": [
    {
     "ename": "TypeError",
     "evalue": "arg #0 should be <class 'str'>",
     "output_type": "error",
     "traceback": [
      "\u001b[1;31m---------------------------------------------------------------------------\u001b[0m",
      "\u001b[1;31mTypeError\u001b[0m                                 Traceback (most recent call last)",
      "Cell \u001b[1;32mIn[10], line 1\u001b[0m\n\u001b[1;32m----> 1\u001b[0m \u001b[43mmy\u001b[49m\u001b[38;5;241;43m.\u001b[39;49m\u001b[43maccept_phrase\u001b[49m\u001b[43m(\u001b[49m\u001b[38;5;241;43m2\u001b[39;49m\u001b[43m)\u001b[49m\n",
      "Cell \u001b[1;32mIn[2], line 22\u001b[0m, in \u001b[0;36mxmlrpc.<locals>._xmlrpc.<locals>.__xmlrpc\u001b[1;34m(*args)\u001b[0m\n\u001b[0;32m     19\u001b[0m \u001b[38;5;28;01mdef\u001b[39;00m \u001b[38;5;21m__xmlrpc\u001b[39m(\u001b[38;5;241m*\u001b[39margs):\n\u001b[0;32m     20\u001b[0m     \u001b[38;5;66;03m# 入力をチェックする\u001b[39;00m\n\u001b[0;32m     21\u001b[0m     checkable_args \u001b[38;5;241m=\u001b[39m args[\u001b[38;5;241m1\u001b[39m:]\n\u001b[1;32m---> 22\u001b[0m     \u001b[43m_check_types\u001b[49m\u001b[43m(\u001b[49m\u001b[43mcheckable_args\u001b[49m\u001b[43m,\u001b[49m\u001b[43min_\u001b[49m\u001b[43m)\u001b[49m\n\u001b[0;32m     23\u001b[0m     \u001b[38;5;66;03m# 関数の実行\u001b[39;00m\n\u001b[0;32m     24\u001b[0m     res \u001b[38;5;241m=\u001b[39m function(\u001b[38;5;241m*\u001b[39margs)\n",
      "Cell \u001b[1;32mIn[2], line 16\u001b[0m, in \u001b[0;36mxmlrpc.<locals>._xmlrpc.<locals>._check_types\u001b[1;34m(elements, types)\u001b[0m\n\u001b[0;32m     14\u001b[0m \u001b[38;5;28;01mif\u001b[39;00m \u001b[38;5;28misinstance\u001b[39m(arg, of_the_right_type):\n\u001b[0;32m     15\u001b[0m     \u001b[38;5;28;01mcontinue\u001b[39;00m\n\u001b[1;32m---> 16\u001b[0m \u001b[38;5;28;01mraise\u001b[39;00m \u001b[38;5;167;01mTypeError\u001b[39;00m(\n\u001b[0;32m     17\u001b[0m     \u001b[38;5;124m'\u001b[39m\u001b[38;5;124marg #\u001b[39m\u001b[38;5;132;01m%d\u001b[39;00m\u001b[38;5;124m should be \u001b[39m\u001b[38;5;132;01m%s\u001b[39;00m\u001b[38;5;124m'\u001b[39m \u001b[38;5;241m%\u001b[39m (index, of_the_right_type))\n",
      "\u001b[1;31mTypeError\u001b[0m: arg #0 should be <class 'str'>"
     ]
    }
   ],
   "source": [
    "my.accept_phrase(2)"
   ]
  },
  {
   "cell_type": "markdown",
   "metadata": {},
   "source": [
    "### キャッシュデコレータ\n",
    "* 引数チェックによく似ているが出力が内部状態の影響を受けない関数に限定して利用できる\n",
    "* 内部状態の影響がなければ、引数の集合から必ず一意な結果が導き出される\n",
    "* 出力地とその出力を計算するのに必要だった引数を一緒に保持する\n",
    "* 2回目以降の呼び出しでは計算炭の値をそのまま返す(メモ化)\n"
   ]
  },
  {
   "cell_type": "code",
   "execution_count": 25,
   "metadata": {},
   "outputs": [],
   "source": [
    "\"\"\"指定された期間だけ、デコレートされた関数の返した値をキャッシュする\"\"\"\n",
    "\n",
    "import time\n",
    "import hashlib\n",
    "import pickle\n",
    "\n",
    "cache = {}\n",
    "def is_obsolete(entry, duration):\n",
    "    \"\"\"キャッシュのエントリが期限切れでないかチェック\"\"\"\n",
    "    return time.time() - entry['time'] > duration\n",
    "\n",
    "def compute_key(function, args, kw):\n",
    "    \"\"\"キャッシュのキーを計算する\"\"\"\n",
    "    key = pickle.dumps((function.__name__, args, kw))\n",
    "    return hashlib.sha1(key).hexdigest()\n",
    "\n",
    "def memoize(duration=10):\n",
    "    \"\"\"キーワード引数にも対応するメモ化デコレータ\n",
    "    指定された期間だけ、関数の計算結果をキャッシュ可能にする\n",
    "    \"\"\"\n",
    "    def _memoize(function):\n",
    "        def __memoize(*args, **kw):\n",
    "            key = compute_key(function, args, kw)\n",
    "            # キャッシュに格納済みか?\n",
    "            if (\n",
    "                key in cache and\n",
    "                not is_obsolete(cache[key], duration)\n",
    "            ):\n",
    "                # キャッシュに値が格納されており、古くなっていなければ返す\n",
    "                print('キャッシュが利用されました')\n",
    "                return cache[key]['value']\n",
    "            # 有効なキャッシュがなければ結果を計算する\n",
    "            result = function(*args, **kw)\n",
    "            # あとで利用できるようにキャッシュする\n",
    "            cache[key] = {\n",
    "                'value':result,\n",
    "                'time':time.time()\n",
    "            }\n",
    "            return result\n",
    "        return __memoize\n",
    "    return _memoize"
   ]
  },
  {
   "cell_type": "code",
   "execution_count": 26,
   "metadata": {},
   "outputs": [],
   "source": [
    "@memoize()\n",
    "def very_very_very_complex_stuff(a, b):\n",
    "    # warning コンピュータが厚くなりすぎたら停止させること\n",
    "    return a + b\n"
   ]
  },
  {
   "cell_type": "code",
   "execution_count": 32,
   "metadata": {},
   "outputs": [
    {
     "data": {
      "text/plain": [
       "4"
      ]
     },
     "execution_count": 32,
     "metadata": {},
     "output_type": "execute_result"
    }
   ],
   "source": [
    "# 初回 or duration秒後再度実行したときの処理\n",
    "very_very_very_complex_stuff(2,2)"
   ]
  },
  {
   "cell_type": "code",
   "execution_count": 38,
   "metadata": {},
   "outputs": [
    {
     "data": {
      "text/plain": [
       "{'7f4eeb75e3369d47904e0aadcdd0a79a8e3d8f72': {'value': 4,\n",
       "  'time': 1716727173.2546222}}"
      ]
     },
     "execution_count": 38,
     "metadata": {},
     "output_type": "execute_result"
    }
   ],
   "source": [
    "# キャッシュ情報\n",
    "cache"
   ]
  },
  {
   "cell_type": "code",
   "execution_count": 40,
   "metadata": {},
   "outputs": [
    {
     "name": "stdout",
     "output_type": "stream",
     "text": [
      "キャッシュが利用されました\n"
     ]
    },
    {
     "data": {
      "text/plain": [
       "4"
      ]
     },
     "execution_count": 40,
     "metadata": {},
     "output_type": "execute_result"
    }
   ],
   "source": [
    "# duration秒内で実行した時の処理\n",
    "very_very_very_complex_stuff(2,2)"
   ]
  },
  {
   "cell_type": "markdown",
   "metadata": {},
   "source": [
    "### プロキシデコレータ\n",
    "* プロキシデコレータは関数にタグをつけたり、グローバルな仕組みへ登録できる\n",
    "* 実行中のユーザーごとにコードへのアクセスを保護するセキュリティレイヤは呼び出し可能オブジェクトに関連付けられたアクセス許可情報を利用する集中制御型チェッカーとして実装できる"
   ]
  },
  {
   "cell_type": "code",
   "execution_count": 41,
   "metadata": {},
   "outputs": [],
   "source": [
    "class User:\n",
    "    def __init__(self, roles):\n",
    "        self.roles = roles\n",
    "\n",
    "class Unauthorized(Exception):\n",
    "    pass\n",
    "\n",
    "def protect(role):\n",
    "    def _protect(function):\n",
    "        def __protect(*args, **kw):\n",
    "            user = globals().get('user')\n",
    "            if user is None or role not in user.roles:\n",
    "                raise Unauthorized(\"教えません\")\n",
    "            return function(*args, **kw)\n",
    "        return __protect\n",
    "    return _protect"
   ]
  },
  {
   "cell_type": "code",
   "execution_count": 42,
   "metadata": {},
   "outputs": [],
   "source": [
    "tarek = User(('admin', 'user'))\n",
    "bill = User(('user',))\n",
    "class RecipeVault:\n",
    "    @protect('admin')\n",
    "    def get_waffle_recipe(self):\n",
    "        print('大量のバターを使ってください!')\n",
    "        "
   ]
  },
  {
   "cell_type": "code",
   "execution_count": 43,
   "metadata": {},
   "outputs": [
    {
     "name": "stdout",
     "output_type": "stream",
     "text": [
      "大量のバターを使ってください!\n"
     ]
    }
   ],
   "source": [
    "my_vault = RecipeVault()\n",
    "user = tarek\n",
    "my_vault.get_waffle_recipe()"
   ]
  },
  {
   "cell_type": "code",
   "execution_count": 44,
   "metadata": {},
   "outputs": [
    {
     "ename": "Unauthorized",
     "evalue": "教えません",
     "output_type": "error",
     "traceback": [
      "\u001b[1;31m---------------------------------------------------------------------------\u001b[0m",
      "\u001b[1;31mUnauthorized\u001b[0m                              Traceback (most recent call last)",
      "Cell \u001b[1;32mIn[44], line 2\u001b[0m\n\u001b[0;32m      1\u001b[0m user \u001b[38;5;241m=\u001b[39m bill\n\u001b[1;32m----> 2\u001b[0m \u001b[43mmy_vault\u001b[49m\u001b[38;5;241;43m.\u001b[39;49m\u001b[43mget_waffle_recipe\u001b[49m\u001b[43m(\u001b[49m\u001b[43m)\u001b[49m\n",
      "Cell \u001b[1;32mIn[41], line 13\u001b[0m, in \u001b[0;36mprotect.<locals>._protect.<locals>.__protect\u001b[1;34m(*args, **kw)\u001b[0m\n\u001b[0;32m     11\u001b[0m user \u001b[38;5;241m=\u001b[39m \u001b[38;5;28mglobals\u001b[39m()\u001b[38;5;241m.\u001b[39mget(\u001b[38;5;124m'\u001b[39m\u001b[38;5;124muser\u001b[39m\u001b[38;5;124m'\u001b[39m)\n\u001b[0;32m     12\u001b[0m \u001b[38;5;28;01mif\u001b[39;00m user \u001b[38;5;129;01mis\u001b[39;00m \u001b[38;5;28;01mNone\u001b[39;00m \u001b[38;5;129;01mor\u001b[39;00m role \u001b[38;5;129;01mnot\u001b[39;00m \u001b[38;5;129;01min\u001b[39;00m user\u001b[38;5;241m.\u001b[39mroles:\n\u001b[1;32m---> 13\u001b[0m     \u001b[38;5;28;01mraise\u001b[39;00m Unauthorized(\u001b[38;5;124m\"\u001b[39m\u001b[38;5;124m教えません\u001b[39m\u001b[38;5;124m\"\u001b[39m)\n\u001b[0;32m     14\u001b[0m \u001b[38;5;28;01mreturn\u001b[39;00m function(\u001b[38;5;241m*\u001b[39margs, \u001b[38;5;241m*\u001b[39m\u001b[38;5;241m*\u001b[39mkw)\n",
      "\u001b[1;31mUnauthorized\u001b[0m: 教えません"
     ]
    }
   ],
   "source": [
    "user = bill\n",
    "my_vault.get_waffle_recipe()"
   ]
  },
  {
   "cell_type": "code",
   "execution_count": 1,
   "metadata": {},
   "outputs": [],
   "source": [
    "# コンテキストプロバイダ\n",
    "class MyClass:\n",
    "    \"\"\"my docstring\"\"\"\n",
    "    pass\n",
    "my = MyClass()\n",
    "def addto(instance):\n",
    "    def _addto(f):\n",
    "        import types\n",
    "        f = types.MethodType(f, instance)\n",
    "        setattr(instance, f.__name__, f)\n",
    "        return f\n",
    "    return _addto\n",
    "@addto(my)\n",
    "def print_docstring(self):\n",
    "    print(self.__doc__)"
   ]
  },
  {
   "cell_type": "code",
   "execution_count": 2,
   "metadata": {},
   "outputs": [
    {
     "name": "stdout",
     "output_type": "stream",
     "text": [
      "my docstring\n"
     ]
    }
   ],
   "source": [
    "my.print_docstring()"
   ]
  },
  {
   "cell_type": "code",
   "execution_count": 9,
   "metadata": {},
   "outputs": [],
   "source": [
    "# 関数の情報収集にデコレータを使うパターン\n",
    "def print_args(function):\n",
    "    def _print_args(*args, **kw):\n",
    "        print(function.__name__, args, kw)\n",
    "        return function(*args, **kw)\n",
    "    return _print_args\n",
    "\n",
    "@print_args\n",
    "def my_func():\n",
    "    pass\n",
    "\n",
    "@print_args\n",
    "def my_function(a, b, c):\n",
    "    my_func()\n",
    "    print( a+b, c*2)"
   ]
  },
  {
   "cell_type": "code",
   "execution_count": 10,
   "metadata": {},
   "outputs": [
    {
     "name": "stdout",
     "output_type": "stream",
     "text": [
      "my_function (1, 2) {'c': 'key'}\n",
      "my_func () {}\n",
      "3 keykey\n"
     ]
    }
   ],
   "source": [
    "my_function(1,2,c='key')"
   ]
  },
  {
   "cell_type": "code",
   "execution_count": 15,
   "metadata": {},
   "outputs": [],
   "source": [
    "# ハンドラ登録に使用する場合\n",
    "def onexit(function):\n",
    "    import atexit\n",
    "    atexit.register(function)\n",
    "    return function\n",
    "\n",
    "@onexit\n",
    "def post_function():\n",
    "    print('post process')\n"
   ]
  },
  {
   "cell_type": "code",
   "execution_count": 13,
   "metadata": {},
   "outputs": [
    {
     "name": "stdout",
     "output_type": "stream",
     "text": [
      "post process\n"
     ]
    }
   ],
   "source": [
    "post_function()"
   ]
  },
  {
   "cell_type": "code",
   "execution_count": null,
   "metadata": {},
   "outputs": [],
   "source": [
    "with open(r\".\\etc\\hosts\") as hosts:\n",
    "    for line in hosts:\n",
    "        # if line.startswith('#'):\n",
    "        #     continue\n",
    "        print(line.strip())\n",
    "        "
   ]
  },
  {
   "cell_type": "markdown",
   "metadata": {},
   "source": [
    "* threadingモジュールで提供される次のクラスはwith文に対応している\n",
    "  * threading.Lock\n",
    "  * threading.RLock\n",
    "  * threading.Condition\n",
    "  * threading.Semaphore\n",
    "  * threading.BoundedSemaphore"
   ]
  },
  {
   "cell_type": "markdown",
   "metadata": {},
   "source": [
    "* with文書き方例\n",
    "```python\n",
    "with context_manager:\n",
    "    # コードブロック\n",
    "with context_manager as context:\n",
    "    # コードブロック\n",
    "with A() as a, B() as b:\n",
    "# 上下同じ内容\n",
    "with A() as a:\n",
    "    with B() as b:\n",
    "```"
   ]
  },
  {
   "cell_type": "code",
   "execution_count": 25,
   "metadata": {},
   "outputs": [],
   "source": [
    "# クラスとしてコンテキストマネージャを実装\n",
    "# __enter__(self):\n",
    "#   コンテキストマネージャがラップしているコードの実行前に必ず呼び出される処理を定義する\n",
    "#   このメソッドはコンテキスト関数を返す\n",
    "# __exit__(self, exc_type, exc_value, traceback):\n",
    "#   コンテキストマネージャがラップしているコードの事項後に呼び出されるクリーンナップ処理を定義\n",
    "#   プロセスの中で発生したすべての例外がキャプチャされる\n",
    "\n",
    "class Contextillustration:\n",
    "    def __enter__(self):\n",
    "        print('コンテキストに入った')\n",
    "    def __exit__(self, exc_type, exc_value, traceback):\n",
    "        print('コンテキストから出た')\n",
    "        if exc_type is None:\n",
    "            print('エラーなし')\n",
    "        else:\n",
    "            print(f'エラーあり ({exc_value})')\n"
   ]
  },
  {
   "cell_type": "code",
   "execution_count": 26,
   "metadata": {},
   "outputs": [
    {
     "name": "stdout",
     "output_type": "stream",
     "text": [
      "コンテキストに入った\n",
      "内部処理\n",
      "コンテキストから出た\n",
      "エラーなし\n"
     ]
    }
   ],
   "source": [
    "Contextillustration\n",
    "with Contextillustration():\n",
    "    print('内部処理')"
   ]
  },
  {
   "cell_type": "code",
   "execution_count": 27,
   "metadata": {},
   "outputs": [
    {
     "name": "stdout",
     "output_type": "stream",
     "text": [
      "コンテキストに入った\n",
      "コンテキストから出た\n",
      "エラーあり (with 内部出の例外)\n"
     ]
    },
    {
     "ename": "RuntimeError",
     "evalue": "with 内部出の例外",
     "output_type": "error",
     "traceback": [
      "\u001b[1;31m---------------------------------------------------------------------------\u001b[0m",
      "\u001b[1;31mRuntimeError\u001b[0m                              Traceback (most recent call last)",
      "Cell \u001b[1;32mIn[27], line 2\u001b[0m\n\u001b[0;32m      1\u001b[0m \u001b[38;5;28;01mwith\u001b[39;00m Contextillustration():\n\u001b[1;32m----> 2\u001b[0m     \u001b[38;5;28;01mraise\u001b[39;00m \u001b[38;5;167;01mRuntimeError\u001b[39;00m(\u001b[38;5;124m'\u001b[39m\u001b[38;5;124mwith 内部出の例外\u001b[39m\u001b[38;5;124m'\u001b[39m)\n",
      "\u001b[1;31mRuntimeError\u001b[0m: with 内部出の例外"
     ]
    }
   ],
   "source": [
    "with Contextillustration():\n",
    "    raise RuntimeError('with 内部出の例外')"
   ]
  },
  {
   "cell_type": "code",
   "execution_count": 28,
   "metadata": {},
   "outputs": [],
   "source": [
    "from contextlib import contextmanager\n",
    "@contextmanager\n",
    "def context_illustration():\n",
    "    print('コンテキストに入った')\n",
    "    try:\n",
    "        yield\n",
    "    except Exception as e:\n",
    "        print('コンテキストから出た')\n",
    "        print(f'エラーあり({e})')\n",
    "        # 例外を創出しなおす必要がある\n",
    "        raise\n",
    "    else:\n",
    "        print('コンテキストから出た')\n",
    "        print('エラーなし')"
   ]
  },
  {
   "cell_type": "code",
   "execution_count": 31,
   "metadata": {},
   "outputs": [
    {
     "name": "stdout",
     "output_type": "stream",
     "text": [
      "コンテキストに入った\n",
      "内部処理\n",
      "コンテキストから出た\n",
      "エラーなし\n"
     ]
    }
   ],
   "source": [
    "with context_illustration():\n",
    "    print('内部処理')"
   ]
  },
  {
   "cell_type": "code",
   "execution_count": 35,
   "metadata": {},
   "outputs": [
    {
     "name": "stdout",
     "output_type": "stream",
     "text": [
      "コンテキストに入った\n",
      "コンテキストから出た\n",
      "エラーあり(内部エラー)\n"
     ]
    },
    {
     "ename": "RuntimeError",
     "evalue": "内部エラー",
     "output_type": "error",
     "traceback": [
      "\u001b[1;31m---------------------------------------------------------------------------\u001b[0m",
      "\u001b[1;31mRuntimeError\u001b[0m                              Traceback (most recent call last)",
      "Cell \u001b[1;32mIn[35], line 2\u001b[0m\n\u001b[0;32m      1\u001b[0m \u001b[38;5;28;01mwith\u001b[39;00m context_illustration():\n\u001b[1;32m----> 2\u001b[0m     \u001b[38;5;28;01mraise\u001b[39;00m \u001b[38;5;167;01mRuntimeError\u001b[39;00m(\u001b[38;5;124m'\u001b[39m\u001b[38;5;124m内部エラー\u001b[39m\u001b[38;5;124m'\u001b[39m)\n",
      "\u001b[1;31mRuntimeError\u001b[0m: 内部エラー"
     ]
    }
   ],
   "source": [
    "with context_illustration():\n",
    "    raise RuntimeError('内部エラー')"
   ]
  },
  {
   "cell_type": "code",
   "execution_count": null,
   "metadata": {},
   "outputs": [],
   "source": []
  },
  {
   "cell_type": "code",
   "execution_count": null,
   "metadata": {},
   "outputs": [],
   "source": []
  },
  {
   "cell_type": "code",
   "execution_count": null,
   "metadata": {},
   "outputs": [],
   "source": []
  },
  {
   "cell_type": "code",
   "execution_count": null,
   "metadata": {},
   "outputs": [],
   "source": []
  },
  {
   "cell_type": "code",
   "execution_count": null,
   "metadata": {},
   "outputs": [],
   "source": []
  },
  {
   "cell_type": "code",
   "execution_count": null,
   "metadata": {},
   "outputs": [],
   "source": []
  },
  {
   "cell_type": "code",
   "execution_count": null,
   "metadata": {},
   "outputs": [],
   "source": []
  },
  {
   "cell_type": "code",
   "execution_count": null,
   "metadata": {},
   "outputs": [],
   "source": []
  },
  {
   "cell_type": "code",
   "execution_count": null,
   "metadata": {},
   "outputs": [],
   "source": []
  },
  {
   "cell_type": "code",
   "execution_count": null,
   "metadata": {},
   "outputs": [],
   "source": []
  },
  {
   "cell_type": "code",
   "execution_count": null,
   "metadata": {},
   "outputs": [],
   "source": []
  },
  {
   "cell_type": "code",
   "execution_count": null,
   "metadata": {},
   "outputs": [],
   "source": []
  },
  {
   "cell_type": "code",
   "execution_count": null,
   "metadata": {},
   "outputs": [],
   "source": []
  },
  {
   "cell_type": "code",
   "execution_count": 24,
   "metadata": {},
   "outputs": [
    {
     "name": "stdout",
     "output_type": "stream",
     "text": [
      "Hello\n"
     ]
    }
   ],
   "source": [
    "# lambdaの使い方\n",
    "# 数行程度で終了する関数を略して書く\n",
    "lam_func = lambda word:word.capitalize()\n",
    "print(lam_func('hello'))"
   ]
  },
  {
   "cell_type": "code",
   "execution_count": null,
   "metadata": {},
   "outputs": [],
   "source": []
  }
 ],
 "metadata": {
  "kernelspec": {
   "display_name": "Python 3",
   "language": "python",
   "name": "python3"
  },
  "language_info": {
   "codemirror_mode": {
    "name": "ipython",
    "version": 3
   },
   "file_extension": ".py",
   "mimetype": "text/x-python",
   "name": "python",
   "nbconvert_exporter": "python",
   "pygments_lexer": "ipython3",
   "version": "3.12.3"
  }
 },
 "nbformat": 4,
 "nbformat_minor": 2
}
