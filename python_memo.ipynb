{
 "cells": [
  {
   "cell_type": "markdown",
   "metadata": {},
   "source": [
    "# Python使い方メモ"
   ]
  },
  {
   "cell_type": "markdown",
   "metadata": {},
   "source": [
    "## 0_PowerShellからPythonを使う\n",
    "### 0-1_環境構築\n",
    "* powershellでpythonの仮想環境を構築する\n",
    "    ```powershell\n",
    "    # カレントディレクトリにディレクトリ名envで仮想環境構築\n",
    "    py -m venv env\n",
    "    # 仮想環境起動\n",
    "    ./env/Scripts/Activate.ps1\n",
    "    # 仮想環境停止\n",
    "    deactivate\n",
    "    # pipからライブラリインストール\n",
    "    pip install ライブラリ名 == バージョン\n",
    "    # インストールしたライブラリの一覧\n",
    "    pip list\n",
    "    # インストールしたライブラリの一覧をテキスト化\n",
    "    pip freeze > requirements.txt\n",
    "    # テキスト化したライブラリをまとめてインストール\n",
    "    pip install -r requirements.txt\n",
    "    ```"
   ]
  },
  {
   "cell_type": "markdown",
   "metadata": {},
   "source": [
    "\n",
    "### python.exeへのコマンドライン\n",
    "~./AppData/Local/Programs/Python/Python312/Doc/html/tutorial/interpreter.html\n",
    "* python\n",
    "  * -c　<コマンド> \n",
    "    * コマンドでコード実行\n",
    "  * -m  <モジュール>\n",
    "    * モジュール検索し、内容をモジュール\n",
    "  * -? or -h\n",
    "    * ヘルプ\n",
    "  * --help-env\n",
    "    * Python固有の環境変数の簡単な説明を出力し終了する\n",
    "  * --help-xオプション\n",
    "    * 実装固有のオプション説明を出力し終了する\n",
    "  * --help-all\n",
    "    * 完全な使用情報を出力し終了する\n",
    "  * -v\n",
    "    * バージョン表示"
   ]
  },
  {
   "cell_type": "markdown",
   "metadata": {},
   "source": [
    "## python\n",
    "### 文字列とバイト"
   ]
  },
  {
   "cell_type": "code",
   "execution_count": 1,
   "metadata": {},
   "outputs": [
    {
     "data": {
      "text/plain": [
       "b'foo'"
      ]
     },
     "execution_count": 1,
     "metadata": {},
     "output_type": "execute_result"
    }
   ],
   "source": [
    "# バイトから文字\n",
    "bytes([102, 111, 111])"
   ]
  },
  {
   "cell_type": "code",
   "execution_count": 2,
   "metadata": {},
   "outputs": [
    {
     "data": {
      "text/plain": [
       "[102, 111, 111, 32, 98, 97, 114]"
      ]
     },
     "execution_count": 2,
     "metadata": {},
     "output_type": "execute_result"
    }
   ],
   "source": [
    "# リスト形式で文字からバイト\n",
    "list(b'foo bar')"
   ]
  },
  {
   "cell_type": "code",
   "execution_count": 3,
   "metadata": {},
   "outputs": [
    {
     "data": {
      "text/plain": [
       "(102, 111, 111, 32, 98, 97, 114)"
      ]
     },
     "execution_count": 3,
     "metadata": {},
     "output_type": "execute_result"
    }
   ],
   "source": [
    "# タプル形式で文字からバイト\n",
    "tuple(b'foo bar')"
   ]
  },
  {
   "cell_type": "code",
   "execution_count": 4,
   "metadata": {},
   "outputs": [
    {
     "data": {
      "text/plain": [
       "bytes"
      ]
     },
     "execution_count": 4,
     "metadata": {},
     "output_type": "execute_result"
    }
   ],
   "source": [
    "## データ型の確認\n",
    "type(b\"some bytes\")"
   ]
  },
  {
   "cell_type": "code",
   "execution_count": 5,
   "metadata": {},
   "outputs": [
    {
     "data": {
      "text/plain": [
       "bytearray(b'some bytes')"
      ]
     },
     "execution_count": 5,
     "metadata": {},
     "output_type": "execute_result"
    }
   ],
   "source": [
    "# bytearray型データの作成\n",
    "bytearray(b'some bytes')"
   ]
  },
  {
   "cell_type": "code",
   "execution_count": 6,
   "metadata": {},
   "outputs": [
    {
     "data": {
      "text/plain": [
       "b'\\xe3\\x82\\xb9\\xe3\\x83\\x88\\xe3\\x83\\xaa\\xe3\\x83\\xb3\\xe3\\x82\\xb0'"
      ]
     },
     "execution_count": 6,
     "metadata": {},
     "output_type": "execute_result"
    }
   ],
   "source": [
    "# 文字からバイトにエンコード\n",
    "'ストリング'.encode(encoding='utf-8')"
   ]
  },
  {
   "cell_type": "code",
   "execution_count": 7,
   "metadata": {},
   "outputs": [
    {
     "data": {
      "text/plain": [
       "'ストリング'"
      ]
     },
     "execution_count": 7,
     "metadata": {},
     "output_type": "execute_result"
    }
   ],
   "source": [
    "# バイトから文字列へ\n",
    "b'\\xe3\\x82\\xb9\\xe3\\x83\\x88\\xe3\\x83\\xaa\\xe3\\x83\\xb3\\xe3\\x82\\xb0'.decode(encoding='utf-8')"
   ]
  },
  {
   "cell_type": "code",
   "execution_count": 8,
   "metadata": {},
   "outputs": [
    {
     "data": {
      "text/plain": [
       "'some,comma,separated,values'"
      ]
     },
     "execution_count": 8,
     "metadata": {},
     "output_type": "execute_result"
    }
   ],
   "source": [
    "# 文字列の連結\n",
    "','.join(['some','comma','separated','values'])"
   ]
  },
  {
   "cell_type": "code",
   "execution_count": 9,
   "metadata": {},
   "outputs": [
    {
     "name": "stdout",
     "output_type": "stream",
     "text": [
      "2^0==   1\n",
      "2^1==   2\n",
      "2^2==   4\n",
      "2^3==   8\n",
      "2^4==  16\n",
      "2^5==  32\n",
      "2^6==  64\n",
      "2^7== 128\n",
      "2^8== 256\n",
      "2^9== 512\n"
     ]
    }
   ],
   "source": [
    "# f文字列の使い方例\n",
    "for x in range(10):\n",
    "    print(f\"2^{x}=={2**x:4d}\")"
   ]
  },
  {
   "cell_type": "code",
   "execution_count": 10,
   "metadata": {},
   "outputs": [
    {
     "data": {
      "text/plain": [
       "[0, 2, 4, 6, 8]"
      ]
     },
     "execution_count": 10,
     "metadata": {},
     "output_type": "execute_result"
    }
   ],
   "source": [
    "# リスト内包表記とif分の組み合わせ\n",
    "[i for i in range(10) if i % 2 ==0]"
   ]
  },
  {
   "cell_type": "code",
   "execution_count": 11,
   "metadata": {},
   "outputs": [
    {
     "name": "stdout",
     "output_type": "stream",
     "text": [
      "0 one\n",
      "1 two\n",
      "2 three\n"
     ]
    }
   ],
   "source": [
    "for i , element in enumerate(['one', 'two', 'three']):\n",
    "    print(i, element)"
   ]
  },
  {
   "cell_type": "code",
   "execution_count": 12,
   "metadata": {},
   "outputs": [
    {
     "name": "stdout",
     "output_type": "stream",
     "text": [
      "(1, 4)\n",
      "(2, 5)\n",
      "(3, 6)\n"
     ]
    }
   ],
   "source": [
    "for items in zip([1,2,3],[4,5,6]):\n",
    "    print(items)"
   ]
  },
  {
   "cell_type": "code",
   "execution_count": 13,
   "metadata": {},
   "outputs": [
    {
     "name": "stdout",
     "output_type": "stream",
     "text": [
      "(1, 2, 3)\n",
      "(4, 5, 6)\n"
     ]
    }
   ],
   "source": [
    "for items in zip(*zip([1,2,3],[4,5,6])):\n",
    "    print(items)"
   ]
  },
  {
   "cell_type": "code",
   "execution_count": 14,
   "metadata": {},
   "outputs": [
    {
     "name": "stdout",
     "output_type": "stream",
     "text": [
      "(1, 1)\n",
      "(2, 2)\n"
     ]
    }
   ],
   "source": [
    "# zip関数は一番短い引数に合わせる\n",
    "for items in zip([1,2,3,4],[1,2]):\n",
    "    print(items)"
   ]
  },
  {
   "cell_type": "code",
   "execution_count": 15,
   "metadata": {},
   "outputs": [
    {
     "name": "stdout",
     "output_type": "stream",
     "text": [
      "foo\n",
      "hoge\n",
      "22\n"
     ]
    }
   ],
   "source": [
    "# アンパック\n",
    "first, second, third = 'foo', 'hoge', 22\n",
    "print(\n",
    "    first,\n",
    "    second,\n",
    "    third,\n",
    "    sep='\\n'\n",
    ")"
   ]
  },
  {
   "cell_type": "code",
   "execution_count": 16,
   "metadata": {},
   "outputs": [
    {
     "name": "stdout",
     "output_type": "stream",
     "text": [
      "0\n",
      "1\n",
      "[2, 3]\n"
     ]
    }
   ],
   "source": [
    "# *を使って残りを一つにキャッチ\n",
    "first, second, *rest = 0, 1, 2, 3\n",
    "print(\n",
    "    first,\n",
    "    second,\n",
    "    rest,\n",
    "    sep='\\n'\n",
    ")"
   ]
  },
  {
   "cell_type": "code",
   "execution_count": 17,
   "metadata": {},
   "outputs": [
    {
     "name": "stdout",
     "output_type": "stream",
     "text": [
      "0\n",
      "[1, 2]\n",
      "1\n"
     ]
    }
   ],
   "source": [
    "# 位置がずれた場合\n",
    "first, *inner, last = 0, 1, 2,3\n",
    "print(\n",
    "    first,\n",
    "    inner,\n",
    "    second,\n",
    "    sep='\\n'\n",
    ")"
   ]
  },
  {
   "cell_type": "code",
   "execution_count": 18,
   "metadata": {},
   "outputs": [
    {
     "data": {
      "text/plain": [
       "(1, 2, 3, 4)"
      ]
     },
     "execution_count": 18,
     "metadata": {},
     "output_type": "execute_result"
    }
   ],
   "source": [
    "# アンパック応用\n",
    "(a,b), (c,d) = (1,2),(3,4)\n",
    "a, b, c, d"
   ]
  },
  {
   "cell_type": "code",
   "execution_count": 19,
   "metadata": {},
   "outputs": [
    {
     "data": {
      "text/plain": [
       "dict_items([('name', 'John'), ('last_name', 'Doe'), ('age', 42)])"
      ]
     },
     "execution_count": 19,
     "metadata": {},
     "output_type": "execute_result"
    }
   ],
   "source": [
    "# 辞書型の要素追加\n",
    "person = {'name':'John', 'last_name':'Doe'}\n",
    "# ここは関数を変数に格納し呼び出しやすくする\n",
    "items = person.items()\n",
    "person['age']=42\n",
    "items\n"
   ]
  },
  {
   "cell_type": "code",
   "execution_count": 20,
   "metadata": {},
   "outputs": [
    {
     "data": {
      "text/plain": [
       "<method-wrapper '__hash__' of tuple object at 0x000001D4949CDC60>"
      ]
     },
     "execution_count": 20,
     "metadata": {},
     "output_type": "execute_result"
    }
   ],
   "source": [
    "(1,2,3,4).__hash__"
   ]
  },
  {
   "cell_type": "code",
   "execution_count": 21,
   "metadata": {},
   "outputs": [
    {
     "data": {
      "text/plain": [
       "{0: None, 1: None, 2: None, 3: None, 4: None}"
      ]
     },
     "execution_count": 21,
     "metadata": {},
     "output_type": "execute_result"
    }
   ],
   "source": [
    "# 辞書内包表記\n",
    "{number: None for number in range(5)}"
   ]
  },
  {
   "cell_type": "code",
   "execution_count": 28,
   "metadata": {},
   "outputs": [
    {
     "name": "stdout",
     "output_type": "stream",
     "text": [
      "{'d': [0, 2], 'b': 1, 'a': 3}\n"
     ]
    }
   ],
   "source": [
    "def fun(**kwargs):\n",
    "    print(kwargs)\n",
    "\n",
    "fun(d=[0,2], b=1, a=3)"
   ]
  },
  {
   "cell_type": "code",
   "execution_count": 22,
   "metadata": {},
   "outputs": [
    {
     "data": {
      "text/plain": [
       "dict_keys(['a', 'b'])"
      ]
     },
     "execution_count": 22,
     "metadata": {},
     "output_type": "execute_result"
    }
   ],
   "source": [
    "# 辞書型の扱い\n",
    "d = {'a':10, 'b':29}\n",
    "# 辞書のキー確認\n",
    "d.keys()"
   ]
  },
  {
   "cell_type": "code",
   "execution_count": 23,
   "metadata": {},
   "outputs": [
    {
     "data": {
      "text/plain": [
       "dict_values([10, 29])"
      ]
     },
     "execution_count": 23,
     "metadata": {},
     "output_type": "execute_result"
    }
   ],
   "source": [
    "# 辞書の値確認\n",
    "d.values()"
   ]
  },
  {
   "cell_type": "code",
   "execution_count": 31,
   "metadata": {},
   "outputs": [
    {
     "data": {
      "text/plain": [
       "{frozenset({1, 2, 3}), frozenset({2, 3, 4})}"
      ]
     },
     "execution_count": 31,
     "metadata": {},
     "output_type": "execute_result"
    }
   ],
   "source": [
    "# 集合\n",
    "# set:\n",
    "#   mutableで順序がない有限集合。要素はユニークでかつimmutableかつhashableなオブジェクト\n",
    "# frozenset:\n",
    "#   immutableかつhashableな順序がない有限集合。要素はユニークでimmutableかつhashableなオブジェクト\n",
    "\n",
    "set([frozenset([1,2,3]), frozenset([2,3,4])])"
   ]
  },
  {
   "cell_type": "code",
   "execution_count": 32,
   "metadata": {},
   "outputs": [
    {
     "data": {
      "text/plain": [
       "frozenset({frozenset({1, 2, 3}), frozenset({2, 3, 4})})"
      ]
     },
     "execution_count": 32,
     "metadata": {},
     "output_type": "execute_result"
    }
   ],
   "source": [
    "frozenset([frozenset([1,2,3]),frozenset([2,3,4])])"
   ]
  },
  {
   "cell_type": "code",
   "execution_count": 35,
   "metadata": {},
   "outputs": [
    {
     "data": {
      "text/plain": [
       "'Point(x, y)'"
      ]
     },
     "execution_count": 35,
     "metadata": {},
     "output_type": "execute_result"
    }
   ],
   "source": [
    "# collectionモジュールの特別なデータコンテナ\n",
    "import collections\n",
    "Point = collections.namedtuple('Point', ['x','y'])\n",
    "Point.__doc__"
   ]
  },
  {
   "cell_type": "code",
   "execution_count": 42,
   "metadata": {},
   "outputs": [],
   "source": [
    "# enumモジュールのシンボル列挙型\n",
    "# シンボル列挙型を作成するための基底クラス\n",
    "\n",
    "from enum import Enum\n",
    "class Weekdays(Enum):\n",
    "    MONDAY = 0\n",
    "    TUESDAY = 1\n",
    "    WEDNESDAY =2"
   ]
  },
  {
   "cell_type": "code",
   "execution_count": 43,
   "metadata": {},
   "outputs": [],
   "source": [
    "# 自動生成で置き換えられる\n",
    "from enum import Enum, auto\n",
    "\n",
    "class Weekday(Enum):\n",
    "    MONDAY = auto()\n",
    "    TUEDAY = auto()\n",
    "    WEDNESDAY = auto()"
   ]
  },
  {
   "cell_type": "markdown",
   "metadata": {},
   "source": [
    "### イテレータ\n",
    "* イテレータとは、単にイテレータプロトコルを実装したコンテナオブジェクト\n",
    "* イテレータプロトコルは\n",
    "  * コンテナの次の要素を返す __next__() メソッド\n",
    "  * イテレータ自身を返す __iter__()メソッド"
   ]
  },
  {
   "cell_type": "code",
   "execution_count": 12,
   "metadata": {},
   "outputs": [
    {
     "name": "stdout",
     "output_type": "stream",
     "text": [
      "a\n",
      "b\n",
      "c\n"
     ]
    }
   ],
   "source": [
    "i = iter('abc')\n",
    "for elem in i:print(elem)"
   ]
  },
  {
   "cell_type": "code",
   "execution_count": 13,
   "metadata": {},
   "outputs": [
    {
     "ename": "StopIteration",
     "evalue": "",
     "output_type": "error",
     "traceback": [
      "\u001b[1;31m---------------------------------------------------------------------------\u001b[0m",
      "\u001b[1;31mStopIteration\u001b[0m                             Traceback (most recent call last)",
      "Cell \u001b[1;32mIn[13], line 2\u001b[0m\n\u001b[0;32m      1\u001b[0m \u001b[38;5;66;03m# シーケンスの要素を取り出し終わるとStopIteration例外が発生する\u001b[39;00m\n\u001b[1;32m----> 2\u001b[0m \u001b[38;5;28;43mnext\u001b[39;49m\u001b[43m(\u001b[49m\u001b[43mi\u001b[49m\u001b[43m)\u001b[49m\n",
      "\u001b[1;31mStopIteration\u001b[0m: "
     ]
    }
   ],
   "source": [
    "# シーケンスの要素を取り出し終わるとStopIteration例外が発生する\n",
    "next(i)"
   ]
  },
  {
   "cell_type": "markdown",
   "metadata": {},
   "source": [
    "### ジェネレータ\n",
    "* ジェネレータを使用すると一連の要素を返す関数をシンプル・効率的に実装できる\n",
    "* yield文を使用し、関数を一時的に停止させ途中経過の結果を返す\n",
    "* 一時停止中も実行コンテキストが保存されているため、必要であれば止まった場所から再実行できる"
   ]
  },
  {
   "cell_type": "code",
   "execution_count": 14,
   "metadata": {},
   "outputs": [],
   "source": [
    "# 例: フィボナッチ数列\n",
    "def fibonacci():\n",
    "    a, b = 0, 1\n",
    "    while True:\n",
    "        yield b\n",
    "        a, b = b, a + b"
   ]
  },
  {
   "cell_type": "code",
   "execution_count": 15,
   "metadata": {},
   "outputs": [
    {
     "data": {
      "text/plain": [
       "1"
      ]
     },
     "execution_count": 15,
     "metadata": {},
     "output_type": "execute_result"
    }
   ],
   "source": [
    "fib = fibonacci()\n",
    "next(fib)"
   ]
  },
  {
   "cell_type": "code",
   "execution_count": 16,
   "metadata": {},
   "outputs": [
    {
     "data": {
      "text/plain": [
       "1"
      ]
     },
     "execution_count": 16,
     "metadata": {},
     "output_type": "execute_result"
    }
   ],
   "source": [
    "next(fib)"
   ]
  },
  {
   "cell_type": "code",
   "execution_count": 17,
   "metadata": {},
   "outputs": [
    {
     "data": {
      "text/plain": [
       "2"
      ]
     },
     "execution_count": 17,
     "metadata": {},
     "output_type": "execute_result"
    }
   ],
   "source": [
    "next(fib)"
   ]
  },
  {
   "cell_type": "code",
   "execution_count": 18,
   "metadata": {},
   "outputs": [
    {
     "data": {
      "text/plain": [
       "[3, 5, 8, 13, 21, 34, 55, 89, 144, 233]"
      ]
     },
     "execution_count": 18,
     "metadata": {},
     "output_type": "execute_result"
    }
   ],
   "source": [
    "[next(fib) for i in range(10)]"
   ]
  },
  {
   "cell_type": "code",
   "execution_count": 19,
   "metadata": {},
   "outputs": [
    {
     "data": {
      "text/plain": [
       "[377, 610, 987, 1597, 2584, 4181, 6765, 10946, 17711, 28657]"
      ]
     },
     "execution_count": 19,
     "metadata": {},
     "output_type": "execute_result"
    }
   ],
   "source": [
    "[next(fib) for i in range(10)]"
   ]
  },
  {
   "cell_type": "code",
   "execution_count": 20,
   "metadata": {},
   "outputs": [
    {
     "data": {
      "text/plain": [
       "TokenInfo(type=65 (NL), string='\\n', start=(1, 0), end=(1, 1), line='\\n')"
      ]
     },
     "execution_count": 20,
     "metadata": {},
     "output_type": "execute_result"
    }
   ],
   "source": [
    "import io\n",
    "import tokenize\n",
    "code = io.StringIO(\"\"\"\n",
    "    if __name__ == \"__name__\":\n",
    "    print(\"hello world!\")\n",
    "    \"\"\")\n",
    "tokens = tokenize.generate_tokens(code.readline)\n",
    "next(tokens)"
   ]
  },
  {
   "cell_type": "code",
   "execution_count": 28,
   "metadata": {},
   "outputs": [],
   "source": [
    "# 例:\n",
    "def capitalize(values):\n",
    "    for value in values:\n",
    "        yield value.upper()\n",
    "\n",
    "def hyphenate(values):\n",
    "    for value in values:\n",
    "        yield f\"-{value}-\"\n",
    "\n",
    "def leetspeak(values):\n",
    "    for value in values:\n",
    "        if value in {'t', 'T'}:\n",
    "            yield '7'\n",
    "        elif value in {'e', 'E'}:\n",
    "            yield '3'\n",
    "        else:\n",
    "            yield value\n",
    "\n",
    "def join(values):\n",
    "    return \"\".join(values)"
   ]
  },
  {
   "cell_type": "code",
   "execution_count": 26,
   "metadata": {},
   "outputs": [
    {
     "data": {
      "text/plain": [
       "'THIS WILL BE UPPERCASE TEXT'"
      ]
     },
     "execution_count": 26,
     "metadata": {},
     "output_type": "execute_result"
    }
   ],
   "source": [
    "join(capitalize(\"This will be uppercase text\"))"
   ]
  },
  {
   "cell_type": "code",
   "execution_count": 29,
   "metadata": {},
   "outputs": [
    {
     "data": {
      "text/plain": [
       "\"7his isn'7 a l337sp3ak\""
      ]
     },
     "execution_count": 29,
     "metadata": {},
     "output_type": "execute_result"
    }
   ],
   "source": [
    "join(leetspeak(\"This isn't a leetspeak\"))"
   ]
  },
  {
   "cell_type": "code",
   "execution_count": 30,
   "metadata": {},
   "outputs": [
    {
     "data": {
      "text/plain": [
       "'-Will--be--hyphenated--by--words-'"
      ]
     },
     "execution_count": 30,
     "metadata": {},
     "output_type": "execute_result"
    }
   ],
   "source": [
    "join(hyphenate(\"Will be hyphenated by words\".split()))"
   ]
  },
  {
   "cell_type": "code",
   "execution_count": 31,
   "metadata": {},
   "outputs": [
    {
     "data": {
      "text/plain": [
       "'-W--i--l--l-- --b--e-- --h--y--p--h--e--n--a--t--e--d-- --b--y-- --c--h--a--r--a--c--t--e--r-'"
      ]
     },
     "execution_count": 31,
     "metadata": {},
     "output_type": "execute_result"
    }
   ],
   "source": [
    "\n",
    "join(hyphenate(\"Will be hyphenated by character\"))"
   ]
  },
  {
   "cell_type": "code",
   "execution_count": 32,
   "metadata": {},
   "outputs": [],
   "source": [
    "# nextで呼び出されたコードとのやり取り\n",
    "def psychologist():\n",
    "    print('Please tell me your problems')\n",
    "    while True:\n",
    "        answer = (yield)\n",
    "        if answer is not None:\n",
    "            if answer.endswith('?'):\n",
    "                print(\"Don't ask yourself too much questions\")\n",
    "            elif 'good' in answer:\n",
    "                print(\"Ahh that's good, go on\")\n",
    "            elif 'bad' in answer:\n",
    "                print(\"Don't be so negative\")"
   ]
  },
  {
   "cell_type": "code",
   "execution_count": 33,
   "metadata": {},
   "outputs": [],
   "source": [
    "free = psychologist()"
   ]
  },
  {
   "cell_type": "code",
   "execution_count": 34,
   "metadata": {},
   "outputs": [
    {
     "name": "stdout",
     "output_type": "stream",
     "text": [
      "Please tell me your problems\n"
     ]
    }
   ],
   "source": [
    "next(free)"
   ]
  },
  {
   "cell_type": "code",
   "execution_count": 35,
   "metadata": {},
   "outputs": [
    {
     "name": "stdout",
     "output_type": "stream",
     "text": [
      "Don't be so negative\n"
     ]
    }
   ],
   "source": [
    "free.send('I feel bad')"
   ]
  },
  {
   "cell_type": "markdown",
   "metadata": {},
   "source": [
    "### デコレータ\n",
    "* 関数やメソッドのラッピング処理をわかりやすくする\n",
    "* デコレータとして使用できるのは、一般的に1つの引数を受け取れる、名前付きのcallable(呼び出し可能)オブジェクト。\n",
    "* 戻り値として他のcallableオブジェクト(デコレーションした結果)を返す\n",
    "* 名前がつかないlambda式は使用できない\n",
    "* "
   ]
  },
  {
   "cell_type": "code",
   "execution_count": 36,
   "metadata": {},
   "outputs": [],
   "source": [
    "# 関数として実装\n",
    "def mydecorator(function):\n",
    "    def wrapped(*args, **kwargs):\n",
    "        # 実際の関数を呼び出す前に行う処理\n",
    "        result = function(*args, **kwargs)\n",
    "        return result\n",
    "    # ラッパーをデコレート済み関数として返す\n",
    "    return wrapped"
   ]
  },
  {
   "cell_type": "code",
   "execution_count": null,
   "metadata": {},
   "outputs": [],
   "source": [
    "# クラスとして実装\n",
    "class DecoratorAsClass:\n",
    "    def __init__(self, function):\n",
    "        self.function = function\n",
    "    \n",
    "    def __call__(self, *args, **kwargs):\n",
    "        result = self.function(*args, **kwargs)\n",
    "        # 呼び出し後に処理を行い、戻り値を返す\n",
    "        return result"
   ]
  },
  {
   "cell_type": "code",
   "execution_count": 1,
   "metadata": {},
   "outputs": [],
   "source": [
    "# 使用例\n",
    "def repeat(number=3):\n",
    "    \"\"\"デコレートされた関数をnumberで指定された回数繰り返す\n",
    "    最後に呼ばれた関数の結果を、関数の戻り値として返す。\n",
    "    :param number:繰り返す回数。指定しなければ3\n",
    "    \"\"\"\n",
    "    def actual_decorator(function):\n",
    "        def wrapper(*args, **kwargs):\n",
    "            result = None\n",
    "            for _ in range(number):\n",
    "                result = function(*args, **kwargs)\n",
    "            return result\n",
    "        return wrapper\n",
    "    return actual_decorator"
   ]
  },
  {
   "cell_type": "code",
   "execution_count": 2,
   "metadata": {},
   "outputs": [],
   "source": [
    "@repeat(2)\n",
    "def print_my_call():\n",
    "    print(\"print_my_call() cqalled!\")\n"
   ]
  },
  {
   "cell_type": "code",
   "execution_count": 3,
   "metadata": {},
   "outputs": [
    {
     "name": "stdout",
     "output_type": "stream",
     "text": [
      "print_my_call() cqalled!\n",
      "print_my_call() cqalled!\n"
     ]
    }
   ],
   "source": [
    "print_my_call()"
   ]
  },
  {
   "cell_type": "code",
   "execution_count": null,
   "metadata": {},
   "outputs": [],
   "source": []
  },
  {
   "cell_type": "code",
   "execution_count": 24,
   "metadata": {},
   "outputs": [
    {
     "name": "stdout",
     "output_type": "stream",
     "text": [
      "Hello\n"
     ]
    }
   ],
   "source": [
    "# lambdaの使い方\n",
    "# 数行程度で終了する関数を略して書く\n",
    "lam_func = lambda word:word.capitalize()\n",
    "print(lam_func('hello'))"
   ]
  },
  {
   "cell_type": "code",
   "execution_count": null,
   "metadata": {},
   "outputs": [],
   "source": []
  }
 ],
 "metadata": {
  "kernelspec": {
   "display_name": "Python 3",
   "language": "python",
   "name": "python3"
  },
  "language_info": {
   "codemirror_mode": {
    "name": "ipython",
    "version": 3
   },
   "file_extension": ".py",
   "mimetype": "text/x-python",
   "name": "python",
   "nbconvert_exporter": "python",
   "pygments_lexer": "ipython3",
   "version": "3.12.3"
  }
 },
 "nbformat": 4,
 "nbformat_minor": 2
}
